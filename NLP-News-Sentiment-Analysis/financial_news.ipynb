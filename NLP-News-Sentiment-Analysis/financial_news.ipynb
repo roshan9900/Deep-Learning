{
 "cells": [
  {
   "cell_type": "markdown",
   "metadata": {
    "id": "lC6R4QaV0Ci0"
   },
   "source": [
    "# Sentiment Analysis of Financial News Using NLTK"
   ]
  },
  {
   "cell_type": "markdown",
   "metadata": {
    "id": "Iq7zwt8VJh1Z"
   },
   "source": [
    "We have to predict the sentiment of fiancial news using nltk"
   ]
  },
  {
   "cell_type": "markdown",
   "metadata": {
    "id": "Y6-xhkpm0MqU"
   },
   "source": [
    "#About Dataset\n",
    "\n",
    "This dataset contains 3 csv file\n",
    "\n",
    "cnbc headline   (3080, 3)\n",
    "\n",
    "gaurdian headline   (17800, 2)\n",
    "\n",
    "reuters headline   (32770, 3)\n"
   ]
  },
  {
   "cell_type": "markdown",
   "metadata": {
    "id": "sZRF0xat134_"
   },
   "source": [
    "# Columns Provided in the Dataset\n",
    "\n",
    "cnbc headline\n",
    "1. time\n",
    "2. headlines\n",
    "3. Description\n",
    "\n",
    "gaurdian headline\n",
    "1. time\n",
    "2. headline\n",
    "\n",
    "reuters headline\n",
    "1. time\n",
    "2. headline\n",
    "3. description\n"
   ]
  },
  {
   "cell_type": "markdown",
   "metadata": {
    "id": "5Q1HBH6RfLoZ"
   },
   "source": [
    "# What is NLTK ?\n",
    "\n",
    "The Natural Language Toolkit (NLTK) is a platform used for building Python programs that work with human language data for applying in statistical natural language processing (NLP).\n",
    "\n",
    "It contains text processing libraries for tokenization, parsing, classification, stemming, tagging and semantic reasoning.\n",
    "\n",
    "\n",
    "https://medium.com/@ODSC/intro-to-language-processing-with-the-nltk-59aa26b9d056\n",
    "\n",
    "\n",
    "\n",
    "# What is sentiment analysis ?\n",
    "\n",
    "Sentiment analysis is the process of detecting positive or negative sentiment in text. It’s often used by businesses to detect sentiment in social data, gauge brand reputation, and understand customers.\n",
    "\n",
    "\n",
    "\n",
    "https://monkeylearn.com/sentiment-analysis/"
   ]
  },
  {
   "cell_type": "code",
   "execution_count": 201,
   "metadata": {
    "colab": {
     "base_uri": "https://localhost:8080/"
    },
    "id": "j2Nq2mt2gUf4",
    "outputId": "4ddf1c6c-68a7-4990-9869-70eba5b3ede2"
   },
   "outputs": [
    {
     "name": "stdout",
     "output_type": "stream",
     "text": [
      "Drive already mounted at /content/drive; to attempt to forcibly remount, call drive.mount(\"/content/drive\", force_remount=True).\n"
     ]
    }
   ],
   "source": []
  },
  {
   "cell_type": "code",
   "execution_count": 61,
   "metadata": {
    "colab": {
     "base_uri": "https://localhost:8080/"
    },
    "id": "pE3JktaFgX_s",
    "outputId": "0324e30c-7e6d-47f7-b1e5-2b64046ab02c"
   },
   "outputs": [],
   "source": [
    "# Import all the required libraries \n",
    "import nltk \n",
    "from nltk.corpus import stopwords\n",
    "from nltk.stem import WordNetLemmatizer\n",
    "from nltk.stem import PorterStemmer \n",
    "import re\n",
    "import matplotlib.pyplot as plt\n",
    "import seaborn as sns\n",
    "%matplotlib inline\n",
    "import pandas as pd\n",
    "import numpy as np\n",
    "\n",
    "from sklearn.feature_extraction.text import TfidfVectorizer, CountVectorizer, TfidfTransformer\n",
    "from sklearn.pipeline import Pipeline\n",
    "from sklearn.metrics import accuracy_score, classification_report, confusion_matrix\n",
    "#import stopwords and text processing libraries"
   ]
  },
  {
   "cell_type": "markdown",
   "metadata": {
    "id": "ijgTOXVu4QvL"
   },
   "source": [
    "# Basic EDA on cnbc_headlines dataset"
   ]
  },
  {
   "cell_type": "code",
   "execution_count": 3,
   "metadata": {
    "id": "EkHTI2fsgX1x"
   },
   "outputs": [],
   "source": [
    "# Read csv file of cnbc headlines using pandas\n",
    "cnbc = pd.read_csv(r\"C:\\Users\\Roshan Salunke\\Downloads\\Data Science Course\\ml project\\8\\cnbc_headlines.csv\")"
   ]
  },
  {
   "cell_type": "code",
   "execution_count": 4,
   "metadata": {
    "colab": {
     "base_uri": "https://localhost:8080/",
     "height": 202
    },
    "id": "Pel3IRW1gX0_",
    "outputId": "22789c43-1702-4ce5-cfc3-7284f5343c72"
   },
   "outputs": [
    {
     "data": {
      "text/html": [
       "<div>\n",
       "<style scoped>\n",
       "    .dataframe tbody tr th:only-of-type {\n",
       "        vertical-align: middle;\n",
       "    }\n",
       "\n",
       "    .dataframe tbody tr th {\n",
       "        vertical-align: top;\n",
       "    }\n",
       "\n",
       "    .dataframe thead th {\n",
       "        text-align: right;\n",
       "    }\n",
       "</style>\n",
       "<table border=\"1\" class=\"dataframe\">\n",
       "  <thead>\n",
       "    <tr style=\"text-align: right;\">\n",
       "      <th></th>\n",
       "      <th>Headlines</th>\n",
       "      <th>Time</th>\n",
       "      <th>Description</th>\n",
       "    </tr>\n",
       "  </thead>\n",
       "  <tbody>\n",
       "    <tr>\n",
       "      <th>0</th>\n",
       "      <td>Jim Cramer: A better way to invest in the Covi...</td>\n",
       "      <td>7:51  PM ET Fri, 17 July 2020</td>\n",
       "      <td>\"Mad Money\" host Jim Cramer recommended buying...</td>\n",
       "    </tr>\n",
       "    <tr>\n",
       "      <th>1</th>\n",
       "      <td>Cramer's lightning round: I would own Teradyne</td>\n",
       "      <td>7:33  PM ET Fri, 17 July 2020</td>\n",
       "      <td>\"Mad Money\" host Jim Cramer rings the lightnin...</td>\n",
       "    </tr>\n",
       "    <tr>\n",
       "      <th>2</th>\n",
       "      <td>NaN</td>\n",
       "      <td>NaN</td>\n",
       "      <td>NaN</td>\n",
       "    </tr>\n",
       "    <tr>\n",
       "      <th>3</th>\n",
       "      <td>Cramer's week ahead: Big week for earnings, ev...</td>\n",
       "      <td>7:25  PM ET Fri, 17 July 2020</td>\n",
       "      <td>\"We'll pay more for the earnings of the non-Co...</td>\n",
       "    </tr>\n",
       "    <tr>\n",
       "      <th>4</th>\n",
       "      <td>IQ Capital CEO Keith Bliss says tech and healt...</td>\n",
       "      <td>4:24  PM ET Fri, 17 July 2020</td>\n",
       "      <td>Keith Bliss, IQ Capital CEO, joins \"Closing Be...</td>\n",
       "    </tr>\n",
       "  </tbody>\n",
       "</table>\n",
       "</div>"
      ],
      "text/plain": [
       "                                           Headlines  \\\n",
       "0  Jim Cramer: A better way to invest in the Covi...   \n",
       "1     Cramer's lightning round: I would own Teradyne   \n",
       "2                                                NaN   \n",
       "3  Cramer's week ahead: Big week for earnings, ev...   \n",
       "4  IQ Capital CEO Keith Bliss says tech and healt...   \n",
       "\n",
       "                             Time  \\\n",
       "0   7:51  PM ET Fri, 17 July 2020   \n",
       "1   7:33  PM ET Fri, 17 July 2020   \n",
       "2                             NaN   \n",
       "3   7:25  PM ET Fri, 17 July 2020   \n",
       "4   4:24  PM ET Fri, 17 July 2020   \n",
       "\n",
       "                                         Description  \n",
       "0  \"Mad Money\" host Jim Cramer recommended buying...  \n",
       "1  \"Mad Money\" host Jim Cramer rings the lightnin...  \n",
       "2                                                NaN  \n",
       "3  \"We'll pay more for the earnings of the non-Co...  \n",
       "4  Keith Bliss, IQ Capital CEO, joins \"Closing Be...  "
      ]
     },
     "execution_count": 4,
     "metadata": {},
     "output_type": "execute_result"
    }
   ],
   "source": [
    "cnbc.head()"
   ]
  },
  {
   "cell_type": "code",
   "execution_count": 5,
   "metadata": {
    "colab": {
     "base_uri": "https://localhost:8080/"
    },
    "id": "7MY607w2gXxS",
    "outputId": "95607ac5-e89c-4896-e5d1-4268a4d80e25"
   },
   "outputs": [
    {
     "data": {
      "text/plain": [
       "(3080, 3)"
      ]
     },
     "execution_count": 5,
     "metadata": {},
     "output_type": "execute_result"
    }
   ],
   "source": [
    "# check the shape of cnbc headline dataset\n",
    "cnbc.shape"
   ]
  },
  {
   "cell_type": "code",
   "execution_count": 6,
   "metadata": {
    "colab": {
     "base_uri": "https://localhost:8080/"
    },
    "id": "fGyvfk-ZgXwN",
    "outputId": "35c626ac-2781-4549-d4c2-22a9ebf0b2eb"
   },
   "outputs": [
    {
     "data": {
      "text/plain": [
       "Index(['Headlines', 'Time', 'Description'], dtype='object')"
      ]
     },
     "execution_count": 6,
     "metadata": {},
     "output_type": "execute_result"
    }
   ],
   "source": [
    "# Check all the columns in the cnbc headline dataset\n",
    "cnbc.columns"
   ]
  },
  {
   "cell_type": "code",
   "execution_count": 7,
   "metadata": {
    "colab": {
     "base_uri": "https://localhost:8080/"
    },
    "id": "kFiwMd7BgXr4",
    "outputId": "146f358f-19be-4ddc-dc15-3290beb69f5f"
   },
   "outputs": [
    {
     "name": "stdout",
     "output_type": "stream",
     "text": [
      "<class 'pandas.core.frame.DataFrame'>\n",
      "RangeIndex: 3080 entries, 0 to 3079\n",
      "Data columns (total 3 columns):\n",
      " #   Column       Non-Null Count  Dtype \n",
      "---  ------       --------------  ----- \n",
      " 0   Headlines    2800 non-null   object\n",
      " 1   Time         2800 non-null   object\n",
      " 2   Description  2800 non-null   object\n",
      "dtypes: object(3)\n",
      "memory usage: 72.3+ KB\n"
     ]
    }
   ],
   "source": [
    "# Check which columns are having categorical, numerical or boolean values\n",
    "cnbc.info()"
   ]
  },
  {
   "cell_type": "code",
   "execution_count": 8,
   "metadata": {
    "colab": {
     "base_uri": "https://localhost:8080/"
    },
    "id": "oST2tsU9gXrE",
    "outputId": "6f38baa8-1b58-4779-be42-039a2c4e17fc"
   },
   "outputs": [
    {
     "data": {
      "text/plain": [
       "Headlines      280\n",
       "Time           280\n",
       "Description    280\n",
       "dtype: int64"
      ]
     },
     "execution_count": 8,
     "metadata": {},
     "output_type": "execute_result"
    }
   ],
   "source": [
    "# Check for missing values in all the columnns of cnbc headline dataset\n",
    "cnbc.isnull().sum()"
   ]
  },
  {
   "cell_type": "markdown",
   "metadata": {
    "id": "YRLZs_Jg8T3r"
   },
   "source": [
    "There is 280 missing values in headlines, description and time"
   ]
  },
  {
   "cell_type": "code",
   "execution_count": 9,
   "metadata": {
    "id": "PdlYoGUfgXnE"
   },
   "outputs": [],
   "source": [
    " # drop nan values in cnbc headline dataset\n",
    "cnbc.dropna(inplace=True)"
   ]
  },
  {
   "cell_type": "code",
   "execution_count": 10,
   "metadata": {
    "colab": {
     "base_uri": "https://localhost:8080/",
     "height": 414
    },
    "id": "cD2J5VmmgXid",
    "outputId": "f2c61222-e741-4732-a2b4-3267b10f70df"
   },
   "outputs": [],
   "source": [
    "# drop the duplicate rows in the dataset keep the first one\n",
    "cnbc.drop_duplicates(subset=['Headlines','Description'],keep='first',inplace=True)"
   ]
  },
  {
   "cell_type": "code",
   "execution_count": 12,
   "metadata": {
    "colab": {
     "base_uri": "https://localhost:8080/"
    },
    "id": "WD5tcCcagXhU",
    "outputId": "2355a67f-5967-4d18-9d33-42f9e78cab9b"
   },
   "outputs": [
    {
     "data": {
      "text/plain": [
       "(2790, 3)"
      ]
     },
     "execution_count": 12,
     "metadata": {},
     "output_type": "execute_result"
    }
   ],
   "source": [
    "# check the shape of cnbc headline dataset\n",
    "cnbc.shape"
   ]
  },
  {
   "cell_type": "markdown",
   "metadata": {
    "id": "JZFVAsUf53Vv"
   },
   "source": [
    "# Basic EDA on Gaurdian headlines dataset"
   ]
  },
  {
   "cell_type": "code",
   "execution_count": 13,
   "metadata": {
    "id": "st0vypi5gXTz"
   },
   "outputs": [],
   "source": [
    "# Read csv file of gaurdian headlines using pandas\n",
    "gr = pd.read_csv(r\"C:\\Users\\Roshan Salunke\\Downloads\\Data Science Course\\ml project\\8\\guardian_headlines.csv\")"
   ]
  },
  {
   "cell_type": "code",
   "execution_count": 14,
   "metadata": {
    "colab": {
     "base_uri": "https://localhost:8080/",
     "height": 202
    },
    "id": "O15tPmH1gXS5",
    "outputId": "565c251d-ef27-4758-8bcd-77f4d73b3ec3"
   },
   "outputs": [
    {
     "data": {
      "text/html": [
       "<div>\n",
       "<style scoped>\n",
       "    .dataframe tbody tr th:only-of-type {\n",
       "        vertical-align: middle;\n",
       "    }\n",
       "\n",
       "    .dataframe tbody tr th {\n",
       "        vertical-align: top;\n",
       "    }\n",
       "\n",
       "    .dataframe thead th {\n",
       "        text-align: right;\n",
       "    }\n",
       "</style>\n",
       "<table border=\"1\" class=\"dataframe\">\n",
       "  <thead>\n",
       "    <tr style=\"text-align: right;\">\n",
       "      <th></th>\n",
       "      <th>Time</th>\n",
       "      <th>Headlines</th>\n",
       "    </tr>\n",
       "  </thead>\n",
       "  <tbody>\n",
       "    <tr>\n",
       "      <th>0</th>\n",
       "      <td>18-Jul-20</td>\n",
       "      <td>Johnson is asking Santa for a Christmas recovery</td>\n",
       "    </tr>\n",
       "    <tr>\n",
       "      <th>1</th>\n",
       "      <td>18-Jul-20</td>\n",
       "      <td>‘I now fear the worst’: four grim tales of wor...</td>\n",
       "    </tr>\n",
       "    <tr>\n",
       "      <th>2</th>\n",
       "      <td>18-Jul-20</td>\n",
       "      <td>Five key areas Sunak must tackle to serve up e...</td>\n",
       "    </tr>\n",
       "    <tr>\n",
       "      <th>3</th>\n",
       "      <td>18-Jul-20</td>\n",
       "      <td>Covid-19 leaves firms ‘fatally ill-prepared’ f...</td>\n",
       "    </tr>\n",
       "    <tr>\n",
       "      <th>4</th>\n",
       "      <td>18-Jul-20</td>\n",
       "      <td>The Week in Patriarchy  \\n\\n\\n  Bacardi's 'lad...</td>\n",
       "    </tr>\n",
       "  </tbody>\n",
       "</table>\n",
       "</div>"
      ],
      "text/plain": [
       "        Time                                          Headlines\n",
       "0  18-Jul-20   Johnson is asking Santa for a Christmas recovery\n",
       "1  18-Jul-20  ‘I now fear the worst’: four grim tales of wor...\n",
       "2  18-Jul-20  Five key areas Sunak must tackle to serve up e...\n",
       "3  18-Jul-20  Covid-19 leaves firms ‘fatally ill-prepared’ f...\n",
       "4  18-Jul-20  The Week in Patriarchy  \\n\\n\\n  Bacardi's 'lad..."
      ]
     },
     "execution_count": 14,
     "metadata": {},
     "output_type": "execute_result"
    }
   ],
   "source": [
    "gr.head()"
   ]
  },
  {
   "cell_type": "code",
   "execution_count": 15,
   "metadata": {
    "colab": {
     "base_uri": "https://localhost:8080/"
    },
    "id": "09OSuHhRgXNf",
    "outputId": "a485e842-e80a-4ac1-c9a4-e6ca644c3c6c"
   },
   "outputs": [
    {
     "data": {
      "text/plain": [
       "(17800, 2)"
      ]
     },
     "execution_count": 15,
     "metadata": {},
     "output_type": "execute_result"
    }
   ],
   "source": [
    "#check the shape of gaurdian headline dataset\n",
    "gr.shape"
   ]
  },
  {
   "cell_type": "code",
   "execution_count": 16,
   "metadata": {
    "colab": {
     "base_uri": "https://localhost:8080/"
    },
    "id": "7gKFN26whZnD",
    "outputId": "eaf4eede-9485-47d5-b5cb-e451b3113f43"
   },
   "outputs": [
    {
     "data": {
      "text/plain": [
       "Index(['Time', 'Headlines'], dtype='object')"
      ]
     },
     "execution_count": 16,
     "metadata": {},
     "output_type": "execute_result"
    }
   ],
   "source": [
    "#check columns of gaurdian headline\n",
    "gr.columns"
   ]
  },
  {
   "cell_type": "code",
   "execution_count": 17,
   "metadata": {
    "colab": {
     "base_uri": "https://localhost:8080/"
    },
    "id": "5fplFio3hZmG",
    "outputId": "203f8075-6c24-4cc0-9c97-64de380ef72d"
   },
   "outputs": [
    {
     "name": "stdout",
     "output_type": "stream",
     "text": [
      "<class 'pandas.core.frame.DataFrame'>\n",
      "RangeIndex: 17800 entries, 0 to 17799\n",
      "Data columns (total 2 columns):\n",
      " #   Column     Non-Null Count  Dtype \n",
      "---  ------     --------------  ----- \n",
      " 0   Time       17800 non-null  object\n",
      " 1   Headlines  17800 non-null  object\n",
      "dtypes: object(2)\n",
      "memory usage: 278.2+ KB\n"
     ]
    }
   ],
   "source": [
    "# Check which columns are having categorical, numerical or boolean values\n",
    "gr.info()"
   ]
  },
  {
   "cell_type": "code",
   "execution_count": 18,
   "metadata": {
    "colab": {
     "base_uri": "https://localhost:8080/"
    },
    "id": "qaWAwEazhZh8",
    "outputId": "db5b6254-3aac-4c68-dbfb-d9088d5f6975"
   },
   "outputs": [
    {
     "data": {
      "text/plain": [
       "Time         0\n",
       "Headlines    0\n",
       "dtype: int64"
      ]
     },
     "execution_count": 18,
     "metadata": {},
     "output_type": "execute_result"
    }
   ],
   "source": [
    "# check null values in gaurdian headlines dataset\n",
    "gr.isnull().sum()"
   ]
  },
  {
   "cell_type": "code",
   "execution_count": 19,
   "metadata": {
    "colab": {
     "base_uri": "https://localhost:8080/",
     "height": 414
    },
    "id": "NBtOooYChZg9",
    "outputId": "64d9aed6-ab1c-46f5-d86d-0d2fcbf757ee"
   },
   "outputs": [],
   "source": [
    "# drop duplicate rows in headlines and keep the first one\n",
    "gr.drop_duplicates(subset=['Headlines'],keep='first',inplace=True)"
   ]
  },
  {
   "cell_type": "code",
   "execution_count": 20,
   "metadata": {},
   "outputs": [
    {
     "data": {
      "text/html": [
       "<div>\n",
       "<style scoped>\n",
       "    .dataframe tbody tr th:only-of-type {\n",
       "        vertical-align: middle;\n",
       "    }\n",
       "\n",
       "    .dataframe tbody tr th {\n",
       "        vertical-align: top;\n",
       "    }\n",
       "\n",
       "    .dataframe thead th {\n",
       "        text-align: right;\n",
       "    }\n",
       "</style>\n",
       "<table border=\"1\" class=\"dataframe\">\n",
       "  <thead>\n",
       "    <tr style=\"text-align: right;\">\n",
       "      <th></th>\n",
       "      <th>Time</th>\n",
       "      <th>Headlines</th>\n",
       "    </tr>\n",
       "  </thead>\n",
       "  <tbody>\n",
       "    <tr>\n",
       "      <th>0</th>\n",
       "      <td>18-Jul-20</td>\n",
       "      <td>Johnson is asking Santa for a Christmas recovery</td>\n",
       "    </tr>\n",
       "    <tr>\n",
       "      <th>1</th>\n",
       "      <td>18-Jul-20</td>\n",
       "      <td>‘I now fear the worst’: four grim tales of wor...</td>\n",
       "    </tr>\n",
       "    <tr>\n",
       "      <th>2</th>\n",
       "      <td>18-Jul-20</td>\n",
       "      <td>Five key areas Sunak must tackle to serve up e...</td>\n",
       "    </tr>\n",
       "    <tr>\n",
       "      <th>3</th>\n",
       "      <td>18-Jul-20</td>\n",
       "      <td>Covid-19 leaves firms ‘fatally ill-prepared’ f...</td>\n",
       "    </tr>\n",
       "    <tr>\n",
       "      <th>4</th>\n",
       "      <td>18-Jul-20</td>\n",
       "      <td>The Week in Patriarchy  \\n\\n\\n  Bacardi's 'lad...</td>\n",
       "    </tr>\n",
       "    <tr>\n",
       "      <th>...</th>\n",
       "      <td>...</td>\n",
       "      <td>...</td>\n",
       "    </tr>\n",
       "    <tr>\n",
       "      <th>17795</th>\n",
       "      <td>17-Dec-17</td>\n",
       "      <td>How investing in solar energy can create a bri...</td>\n",
       "    </tr>\n",
       "    <tr>\n",
       "      <th>17796</th>\n",
       "      <td>17-Dec-17</td>\n",
       "      <td>Poundland suppliers hit by insurance downgrade</td>\n",
       "    </tr>\n",
       "    <tr>\n",
       "      <th>17797</th>\n",
       "      <td>17-Dec-17</td>\n",
       "      <td>Cryptocurrencies: City watchdog to investigate...</td>\n",
       "    </tr>\n",
       "    <tr>\n",
       "      <th>17798</th>\n",
       "      <td>17-Dec-17</td>\n",
       "      <td>Unilever sells household name spreads to KKR f...</td>\n",
       "    </tr>\n",
       "    <tr>\n",
       "      <th>17799</th>\n",
       "      <td>17-Dec-17</td>\n",
       "      <td>The Guardian view on Ryanair’s model: a union-...</td>\n",
       "    </tr>\n",
       "  </tbody>\n",
       "</table>\n",
       "<p>17795 rows × 2 columns</p>\n",
       "</div>"
      ],
      "text/plain": [
       "            Time                                          Headlines\n",
       "0      18-Jul-20   Johnson is asking Santa for a Christmas recovery\n",
       "1      18-Jul-20  ‘I now fear the worst’: four grim tales of wor...\n",
       "2      18-Jul-20  Five key areas Sunak must tackle to serve up e...\n",
       "3      18-Jul-20  Covid-19 leaves firms ‘fatally ill-prepared’ f...\n",
       "4      18-Jul-20  The Week in Patriarchy  \\n\\n\\n  Bacardi's 'lad...\n",
       "...          ...                                                ...\n",
       "17795  17-Dec-17  How investing in solar energy can create a bri...\n",
       "17796  17-Dec-17     Poundland suppliers hit by insurance downgrade\n",
       "17797  17-Dec-17  Cryptocurrencies: City watchdog to investigate...\n",
       "17798  17-Dec-17  Unilever sells household name spreads to KKR f...\n",
       "17799  17-Dec-17  The Guardian view on Ryanair’s model: a union-...\n",
       "\n",
       "[17795 rows x 2 columns]"
      ]
     },
     "execution_count": 20,
     "metadata": {},
     "output_type": "execute_result"
    }
   ],
   "source": [
    "gr"
   ]
  },
  {
   "cell_type": "markdown",
   "metadata": {
    "id": "3iwjVwnv6-v3"
   },
   "source": [
    "# Basic EDA on reuters headlines"
   ]
  },
  {
   "cell_type": "code",
   "execution_count": 21,
   "metadata": {
    "id": "asNDch3WhZXh"
   },
   "outputs": [],
   "source": [
    "# Read csv file of reuters headlines using using pandas\n",
    "rt = pd.read_csv(r\"C:\\Users\\Roshan Salunke\\Downloads\\Data Science Course\\ml project\\8\\reuters_headlines.csv\")"
   ]
  },
  {
   "cell_type": "code",
   "execution_count": 22,
   "metadata": {
    "colab": {
     "base_uri": "https://localhost:8080/",
     "height": 202
    },
    "id": "n-FuGab8hZS0",
    "outputId": "61fbc9af-cc62-4f68-bf99-3d071af01425"
   },
   "outputs": [
    {
     "data": {
      "text/html": [
       "<div>\n",
       "<style scoped>\n",
       "    .dataframe tbody tr th:only-of-type {\n",
       "        vertical-align: middle;\n",
       "    }\n",
       "\n",
       "    .dataframe tbody tr th {\n",
       "        vertical-align: top;\n",
       "    }\n",
       "\n",
       "    .dataframe thead th {\n",
       "        text-align: right;\n",
       "    }\n",
       "</style>\n",
       "<table border=\"1\" class=\"dataframe\">\n",
       "  <thead>\n",
       "    <tr style=\"text-align: right;\">\n",
       "      <th></th>\n",
       "      <th>Headlines</th>\n",
       "      <th>Time</th>\n",
       "      <th>Description</th>\n",
       "    </tr>\n",
       "  </thead>\n",
       "  <tbody>\n",
       "    <tr>\n",
       "      <th>0</th>\n",
       "      <td>TikTok considers London and other locations fo...</td>\n",
       "      <td>Jul 18 2020</td>\n",
       "      <td>TikTok has been in discussions with the UK gov...</td>\n",
       "    </tr>\n",
       "    <tr>\n",
       "      <th>1</th>\n",
       "      <td>Disney cuts ad spending on Facebook amid growi...</td>\n",
       "      <td>Jul 18 2020</td>\n",
       "      <td>Walt Disney  has become the latest company to ...</td>\n",
       "    </tr>\n",
       "    <tr>\n",
       "      <th>2</th>\n",
       "      <td>Trail of missing Wirecard executive leads to B...</td>\n",
       "      <td>Jul 18 2020</td>\n",
       "      <td>Former Wirecard  chief operating officer Jan M...</td>\n",
       "    </tr>\n",
       "    <tr>\n",
       "      <th>3</th>\n",
       "      <td>Twitter says attackers downloaded data from up...</td>\n",
       "      <td>Jul 18 2020</td>\n",
       "      <td>Twitter Inc said on Saturday that hackers were...</td>\n",
       "    </tr>\n",
       "    <tr>\n",
       "      <th>4</th>\n",
       "      <td>U.S. Republicans seek liability protections as...</td>\n",
       "      <td>Jul 17 2020</td>\n",
       "      <td>A battle in the U.S. Congress over a new coron...</td>\n",
       "    </tr>\n",
       "  </tbody>\n",
       "</table>\n",
       "</div>"
      ],
      "text/plain": [
       "                                           Headlines         Time  \\\n",
       "0  TikTok considers London and other locations fo...  Jul 18 2020   \n",
       "1  Disney cuts ad spending on Facebook amid growi...  Jul 18 2020   \n",
       "2  Trail of missing Wirecard executive leads to B...  Jul 18 2020   \n",
       "3  Twitter says attackers downloaded data from up...  Jul 18 2020   \n",
       "4  U.S. Republicans seek liability protections as...  Jul 17 2020   \n",
       "\n",
       "                                         Description  \n",
       "0  TikTok has been in discussions with the UK gov...  \n",
       "1  Walt Disney  has become the latest company to ...  \n",
       "2  Former Wirecard  chief operating officer Jan M...  \n",
       "3  Twitter Inc said on Saturday that hackers were...  \n",
       "4  A battle in the U.S. Congress over a new coron...  "
      ]
     },
     "execution_count": 22,
     "metadata": {},
     "output_type": "execute_result"
    }
   ],
   "source": [
    "rt.head()"
   ]
  },
  {
   "cell_type": "code",
   "execution_count": 24,
   "metadata": {
    "colab": {
     "base_uri": "https://localhost:8080/"
    },
    "id": "aRIhdEPyhZR3",
    "outputId": "a2592db9-0d2c-45e6-9f36-926a14eb5602"
   },
   "outputs": [
    {
     "data": {
      "text/plain": [
       "(32770, 3)"
      ]
     },
     "execution_count": 24,
     "metadata": {},
     "output_type": "execute_result"
    }
   ],
   "source": [
    "#check the shape of reuters headlines dataset\n",
    "rt.shape"
   ]
  },
  {
   "cell_type": "code",
   "execution_count": 25,
   "metadata": {
    "colab": {
     "base_uri": "https://localhost:8080/"
    },
    "id": "zn6OnjCwhZN8",
    "outputId": "7965f9fb-0c75-4356-9ad0-4d8fe1727c3d"
   },
   "outputs": [
    {
     "data": {
      "text/plain": [
       "Index(['Headlines', 'Time', 'Description'], dtype='object')"
      ]
     },
     "execution_count": 25,
     "metadata": {},
     "output_type": "execute_result"
    }
   ],
   "source": [
    "#check the columns of reuters headline dataset\n",
    "rt.columns"
   ]
  },
  {
   "cell_type": "code",
   "execution_count": 26,
   "metadata": {
    "colab": {
     "base_uri": "https://localhost:8080/"
    },
    "id": "go-UtVDjhZM1",
    "outputId": "f423cfcf-3bdf-471c-fb4d-1424787d9c79"
   },
   "outputs": [
    {
     "name": "stdout",
     "output_type": "stream",
     "text": [
      "<class 'pandas.core.frame.DataFrame'>\n",
      "RangeIndex: 32770 entries, 0 to 32769\n",
      "Data columns (total 3 columns):\n",
      " #   Column       Non-Null Count  Dtype \n",
      "---  ------       --------------  ----- \n",
      " 0   Headlines    32770 non-null  object\n",
      " 1   Time         32770 non-null  object\n",
      " 2   Description  32770 non-null  object\n",
      "dtypes: object(3)\n",
      "memory usage: 768.2+ KB\n"
     ]
    }
   ],
   "source": [
    "# Check which columns are having categorical, numerical or boolean values\n",
    "rt.info()"
   ]
  },
  {
   "cell_type": "code",
   "execution_count": 27,
   "metadata": {
    "colab": {
     "base_uri": "https://localhost:8080/"
    },
    "id": "7d7HOHV7hZJM",
    "outputId": "b60f3758-a698-45ad-ec28-c22e424997f3"
   },
   "outputs": [
    {
     "data": {
      "text/plain": [
       "Headlines      0\n",
       "Time           0\n",
       "Description    0\n",
       "dtype: int64"
      ]
     },
     "execution_count": 27,
     "metadata": {},
     "output_type": "execute_result"
    }
   ],
   "source": [
    "# Check for missing values in all the columnns of reuters headlines dataset\n",
    "rt.isnull().sum()"
   ]
  },
  {
   "cell_type": "code",
   "execution_count": 28,
   "metadata": {
    "colab": {
     "base_uri": "https://localhost:8080/",
     "height": 414
    },
    "id": "Zvbdb747hZHz",
    "outputId": "d9926a4c-1074-4c12-e41e-7607561c38fd"
   },
   "outputs": [],
   "source": [
    "#drop the duplicate rows in reuters headlines dataset and keep the first one\n",
    "rt.drop_duplicates(subset=['Headlines','Description'],keep='first',inplace=True)"
   ]
  },
  {
   "cell_type": "code",
   "execution_count": 29,
   "metadata": {},
   "outputs": [
    {
     "data": {
      "text/html": [
       "<div>\n",
       "<style scoped>\n",
       "    .dataframe tbody tr th:only-of-type {\n",
       "        vertical-align: middle;\n",
       "    }\n",
       "\n",
       "    .dataframe tbody tr th {\n",
       "        vertical-align: top;\n",
       "    }\n",
       "\n",
       "    .dataframe thead th {\n",
       "        text-align: right;\n",
       "    }\n",
       "</style>\n",
       "<table border=\"1\" class=\"dataframe\">\n",
       "  <thead>\n",
       "    <tr style=\"text-align: right;\">\n",
       "      <th></th>\n",
       "      <th>Headlines</th>\n",
       "      <th>Time</th>\n",
       "      <th>Description</th>\n",
       "    </tr>\n",
       "  </thead>\n",
       "  <tbody>\n",
       "    <tr>\n",
       "      <th>0</th>\n",
       "      <td>TikTok considers London and other locations fo...</td>\n",
       "      <td>Jul 18 2020</td>\n",
       "      <td>TikTok has been in discussions with the UK gov...</td>\n",
       "    </tr>\n",
       "    <tr>\n",
       "      <th>1</th>\n",
       "      <td>Disney cuts ad spending on Facebook amid growi...</td>\n",
       "      <td>Jul 18 2020</td>\n",
       "      <td>Walt Disney  has become the latest company to ...</td>\n",
       "    </tr>\n",
       "    <tr>\n",
       "      <th>2</th>\n",
       "      <td>Trail of missing Wirecard executive leads to B...</td>\n",
       "      <td>Jul 18 2020</td>\n",
       "      <td>Former Wirecard  chief operating officer Jan M...</td>\n",
       "    </tr>\n",
       "    <tr>\n",
       "      <th>3</th>\n",
       "      <td>Twitter says attackers downloaded data from up...</td>\n",
       "      <td>Jul 18 2020</td>\n",
       "      <td>Twitter Inc said on Saturday that hackers were...</td>\n",
       "    </tr>\n",
       "    <tr>\n",
       "      <th>4</th>\n",
       "      <td>U.S. Republicans seek liability protections as...</td>\n",
       "      <td>Jul 17 2020</td>\n",
       "      <td>A battle in the U.S. Congress over a new coron...</td>\n",
       "    </tr>\n",
       "    <tr>\n",
       "      <th>...</th>\n",
       "      <td>...</td>\n",
       "      <td>...</td>\n",
       "      <td>...</td>\n",
       "    </tr>\n",
       "    <tr>\n",
       "      <th>32765</th>\n",
       "      <td>Malaysia says never hired British data firm at...</td>\n",
       "      <td>Mar 20 2018</td>\n",
       "      <td>The Malaysian government and the ruling party ...</td>\n",
       "    </tr>\n",
       "    <tr>\n",
       "      <th>32766</th>\n",
       "      <td>Prosecutors search Volkswagen headquarters in ...</td>\n",
       "      <td>Mar 20 2018</td>\n",
       "      <td>German prosecutors said on Tuesday they had se...</td>\n",
       "    </tr>\n",
       "    <tr>\n",
       "      <th>32767</th>\n",
       "      <td>McDonald's sets greenhouse gas reduction targets</td>\n",
       "      <td>Mar 20 2018</td>\n",
       "      <td>McDonald's Corp on Tuesday announced an approv...</td>\n",
       "    </tr>\n",
       "    <tr>\n",
       "      <th>32768</th>\n",
       "      <td>Pratt &amp; Whitney to deliver spare A320neo engin...</td>\n",
       "      <td>Mar 20 2018</td>\n",
       "      <td>Pratt &amp; Whitney will soon begin deliveries of ...</td>\n",
       "    </tr>\n",
       "    <tr>\n",
       "      <th>32769</th>\n",
       "      <td>UK will always consider ways to improve data l...</td>\n",
       "      <td>Mar 20 2018</td>\n",
       "      <td>Britain will consider any suggestions to give ...</td>\n",
       "    </tr>\n",
       "  </tbody>\n",
       "</table>\n",
       "<p>32673 rows × 3 columns</p>\n",
       "</div>"
      ],
      "text/plain": [
       "                                               Headlines         Time  \\\n",
       "0      TikTok considers London and other locations fo...  Jul 18 2020   \n",
       "1      Disney cuts ad spending on Facebook amid growi...  Jul 18 2020   \n",
       "2      Trail of missing Wirecard executive leads to B...  Jul 18 2020   \n",
       "3      Twitter says attackers downloaded data from up...  Jul 18 2020   \n",
       "4      U.S. Republicans seek liability protections as...  Jul 17 2020   \n",
       "...                                                  ...          ...   \n",
       "32765  Malaysia says never hired British data firm at...  Mar 20 2018   \n",
       "32766  Prosecutors search Volkswagen headquarters in ...  Mar 20 2018   \n",
       "32767   McDonald's sets greenhouse gas reduction targets  Mar 20 2018   \n",
       "32768  Pratt & Whitney to deliver spare A320neo engin...  Mar 20 2018   \n",
       "32769  UK will always consider ways to improve data l...  Mar 20 2018   \n",
       "\n",
       "                                             Description  \n",
       "0      TikTok has been in discussions with the UK gov...  \n",
       "1      Walt Disney  has become the latest company to ...  \n",
       "2      Former Wirecard  chief operating officer Jan M...  \n",
       "3      Twitter Inc said on Saturday that hackers were...  \n",
       "4      A battle in the U.S. Congress over a new coron...  \n",
       "...                                                  ...  \n",
       "32765  The Malaysian government and the ruling party ...  \n",
       "32766  German prosecutors said on Tuesday they had se...  \n",
       "32767  McDonald's Corp on Tuesday announced an approv...  \n",
       "32768  Pratt & Whitney will soon begin deliveries of ...  \n",
       "32769  Britain will consider any suggestions to give ...  \n",
       "\n",
       "[32673 rows x 3 columns]"
      ]
     },
     "execution_count": 29,
     "metadata": {},
     "output_type": "execute_result"
    }
   ],
   "source": [
    "rt"
   ]
  },
  {
   "cell_type": "markdown",
   "metadata": {
    "id": "2uvArOVne6jB"
   },
   "source": [
    "#Making some functions that we will need  ahead"
   ]
  },
  {
   "cell_type": "markdown",
   "metadata": {
    "id": "94zINn2npv1V"
   },
   "source": [
    "Preprocessing "
   ]
  },
  {
   "cell_type": "markdown",
   "metadata": {
    "id": "nV7crjnBpyX9"
   },
   "source": [
    "1. **Lowercase** - It is necessary to convert the text to lower case as it is case sensitive.\n",
    "\n",
    "2. **remove punctuations** -  The punctuations present in the text do not add value to the data. The punctuation, when attached to any word, will create a problem in differentiating with other words. so we have to get rid of them.\n",
    "\n",
    "3. **remove stopwords** -  Stopwords include: I, he, she, and, but, was were, being, have, etc, which do not add meaning to the data. So these words must be removed which helps to reduce the features from our data. These are removed after tokenizing the text.\n",
    "\n",
    "4. **stemming** -  A technique that takes the word to its root form. It just removes suffixes from the words. The stemmed word might not be part of the dictionary, i.e it will not necessarily give meaning.\n",
    "\n",
    "5. **lemmatizing** -  Takes the word to its root form called Lemma. It helps to bring words to their dictionary form. It is applied to nouns by default. It is more accurate as it uses more informed analysis to create groups of words with similar meanings based on the context, so it is complex and takes more time. This is used where we need to retain the contextual information.\n",
    "\n",
    "\n",
    "https://youtu.be/lMQzEk5vht4\n",
    "\n",
    "https://www.pluralsight.com/guides/importance-of-text-pre-processing"
   ]
  },
  {
   "cell_type": "code",
   "execution_count": 43,
   "metadata": {
    "id": "djtZVA_IhY9b"
   },
   "outputs": [],
   "source": [
    "# create a function for preprocessing \n",
    "def preprocessing(text):\n",
    "    \n",
    "  #convert all to lowercase\n",
    "    text = text.lower()\n",
    "  #remove puntuations\n",
    "    text = re.sub(r'[^\\w\\s]','',text)\n",
    "    \n",
    "    text = nltk.word_tokenize(text)\n",
    "\n",
    "  #remove stopword\n",
    "    text = [word for word in text if not word in stopwords.words('english')]\n",
    "\n",
    "  #stemming\n",
    "    text = [PorterStemmer().stem(w) for w in text]\n",
    "\n",
    "\n",
    "  #lemmitizing\n",
    "    text = [WordNetLemmatizer().lemmatize(w) for w in text]\n",
    "    \n",
    "    text = ' '.join(text)\n",
    "    return text"
   ]
  },
  {
   "cell_type": "markdown",
   "metadata": {
    "id": "pjlDZ7Peu7t1"
   },
   "source": [
    "SENTIMENT ANAYSIS"
   ]
  },
  {
   "cell_type": "markdown",
   "metadata": {
    "id": "h9ZOktEru6MV"
   },
   "source": [
    "https://towardsdatascience.com/sentimental-analysis-using-vader-a3415fef7664"
   ]
  },
  {
   "cell_type": "code",
   "execution_count": 31,
   "metadata": {
    "colab": {
     "base_uri": "https://localhost:8080/"
    },
    "id": "HUxqpmosB6vy",
    "outputId": "77151daa-a298-4a80-eaa6-f5dc11a340f1"
   },
   "outputs": [],
   "source": [
    "# import sentiment intensity analyzer\n",
    "from nltk.sentiment.vader import SentimentIntensityAnalyzer\n",
    "\n",
    "\n",
    "# create sentiment intensity analyzer object\n",
    "analyzer = SentimentIntensityAnalyzer()\n"
   ]
  },
  {
   "cell_type": "code",
   "execution_count": 32,
   "metadata": {
    "id": "GscOEWSjGfa2"
   },
   "outputs": [],
   "source": [
    "#fuction to  decide sentiment as positive, negative and neutral\n",
    "def score(score):\n",
    "    if score>0.00:\n",
    "        return 'positve'\n",
    "    elif score < 0.0:\n",
    "        return 'negative'\n",
    "    else:\n",
    "        return 'neutral'"
   ]
  },
  {
   "cell_type": "markdown",
   "metadata": {
    "id": "RVa-zf7xfRjc"
   },
   "source": [
    "# Now working with description on datasets"
   ]
  },
  {
   "cell_type": "code",
   "execution_count": 33,
   "metadata": {
    "id": "NFS1pS0Zws6Z"
   },
   "outputs": [],
   "source": [
    "# concatenate cnbc headlines dataset and reuters headline dataset\n",
    "d = pd.concat([cnbc, rt],axis=0)"
   ]
  },
  {
   "cell_type": "code",
   "execution_count": 34,
   "metadata": {
    "colab": {
     "base_uri": "https://localhost:8080/"
    },
    "id": "eDgz1y9Cwzfm",
    "outputId": "f5a8a761-7f1b-4997-dee9-f4cb89f98268"
   },
   "outputs": [
    {
     "data": {
      "text/plain": [
       "(35463, 3)"
      ]
     },
     "execution_count": 34,
     "metadata": {},
     "output_type": "execute_result"
    }
   ],
   "source": [
    "#check the shape of this new dataset\n",
    "d.shape"
   ]
  },
  {
   "cell_type": "code",
   "execution_count": 35,
   "metadata": {
    "id": "u0v43468m4d0"
   },
   "outputs": [],
   "source": [
    "#make a copy of new dataset \n",
    "df = d.copy()"
   ]
  },
  {
   "cell_type": "code",
   "execution_count": 44,
   "metadata": {
    "colab": {
     "base_uri": "https://localhost:8080/",
     "height": 662
    },
    "id": "KMejFN4HhY44",
    "outputId": "59c6d813-245a-41f4-e2d9-b30f6921e669"
   },
   "outputs": [],
   "source": [
    "# apply preprocessing to the description of new dataset\n",
    "\n",
    "df['Description'] = df['Description'].apply(preprocessing)"
   ]
  },
  {
   "cell_type": "code",
   "execution_count": 46,
   "metadata": {
    "colab": {
     "base_uri": "https://localhost:8080/",
     "height": 414
    },
    "id": "l97AoQKkhYzb",
    "outputId": "984cc92c-5215-44d0-881e-a6947d580b96"
   },
   "outputs": [],
   "source": [
    "# analyze polarity score of values in description and  add new column of it in dataset\n",
    "ds_score = []\n",
    "for value  in df['Description'].values:\n",
    "    ds_score.append(analyzer.polarity_scores(value)['compound'])\n",
    "    \n",
    "df['ds_score'] = ds_score"
   ]
  },
  {
   "cell_type": "code",
   "execution_count": 47,
   "metadata": {
    "colab": {
     "base_uri": "https://localhost:8080/",
     "height": 414
    },
    "id": "c9Aq-sQ7hYu_",
    "outputId": "6f50dd1a-ba4c-4708-82ea-ed7a75459a89"
   },
   "outputs": [],
   "source": [
    "# apply the function  which decides sentiment to  polarity score column\n",
    "df['ds_score'] = df['ds_score'].apply(score)"
   ]
  },
  {
   "cell_type": "code",
   "execution_count": 48,
   "metadata": {
    "colab": {
     "base_uri": "https://localhost:8080/",
     "height": 297
    },
    "id": "BMaNV0ayeBoI",
    "outputId": "34766863-6362-45a5-c27d-a7baf76e6223"
   },
   "outputs": [
    {
     "name": "stderr",
     "output_type": "stream",
     "text": [
      "C:\\Users\\Roshan Salunke\\anaconda3\\lib\\site-packages\\seaborn\\_decorators.py:36: FutureWarning: Pass the following variable as a keyword arg: x. From version 0.12, the only valid positional argument will be `data`, and passing other arguments without an explicit keyword will result in an error or misinterpretation.\n",
      "  warnings.warn(\n"
     ]
    },
    {
     "data": {
      "text/plain": [
       "<AxesSubplot:xlabel='ds_score', ylabel='count'>"
      ]
     },
     "execution_count": 48,
     "metadata": {},
     "output_type": "execute_result"
    },
    {
     "data": {
      "image/png": "[encoded data removed]",
      "text/plain": [
       "<Figure size 640x480 with 1 Axes>"
      ]
     },
     "metadata": {},
     "output_type": "display_data"
    }
   ],
   "source": [
    "# plot a count plot on description score column\n",
    "sns.countplot(df['ds_score'])"
   ]
  },
  {
   "cell_type": "markdown",
   "metadata": {
    "id": "r5q_doOjIQu-"
   },
   "source": [
    "In the description \n",
    "\n",
    "there are approx\n",
    "\n",
    "14000 positive statment\n",
    "\n",
    "12000 negative statment\n",
    "\n",
    "8000 neutral statment"
   ]
  },
  {
   "cell_type": "code",
   "execution_count": 49,
   "metadata": {
    "colab": {
     "base_uri": "https://localhost:8080/",
     "height": 542
    },
    "id": "ptvoU5apeN4N",
    "outputId": "32e707ce-18f6-4fdc-a06d-f20e8322d5b3"
   },
   "outputs": [
    {
     "data": {
      "text/plain": [
       "([<matplotlib.patches.Wedge at 0x15e78397550>,\n",
       "  <matplotlib.patches.Wedge at 0x15e78397f10>,\n",
       "  <matplotlib.patches.Wedge at 0x15e7d411af0>],\n",
       " [Text(0.25904212447606273, 1.069063692090854, 'positive'),\n",
       "  Text(-0.901323364481665, -0.6305681506700541, 'negative'),\n",
       "  Text(0.825089304041339, -0.7274803367490967, 'neutral')])"
      ]
     },
     "execution_count": 49,
     "metadata": {},
     "output_type": "execute_result"
    },
    {
     "data": {
      "image/png": "[encoded data removed]",
      "text/plain": [
       "<Figure size 640x480 with 1 Axes>"
      ]
     },
     "metadata": {},
     "output_type": "display_data"
    }
   ],
   "source": [
    "# pie chart on description score column\n",
    "plt.pie(df['ds_score'].value_counts(),labels=['positive','negative','neutral'])"
   ]
  },
  {
   "cell_type": "markdown",
   "metadata": {
    "id": "5o3Z-0KhHm2w"
   },
   "source": [
    "In the dataset \n",
    "\n",
    "description contains\n",
    "\n",
    "42.6% positive statments\n",
    "\n",
    "34.5% negtive statements\n",
    "\n",
    "22.9% neutral statments"
   ]
  },
  {
   "cell_type": "markdown",
   "metadata": {
    "id": "wgt0f3fKfakl"
   },
   "source": [
    "# Modelling on description "
   ]
  },
  {
   "cell_type": "code",
   "execution_count": 50,
   "metadata": {
    "id": "pOd6wPeUhYd2"
   },
   "outputs": [],
   "source": [
    "# split the dataset  into test and train \n",
    "# 80% train , 20% test and random state 212\n",
    "from sklearn.model_selection import train_test_split\n",
    "x_train, x_test, y_train, y_test = train_test_split(df['Description'], df['ds_score'],test_size=0.2)"
   ]
  },
  {
   "cell_type": "markdown",
   "metadata": {
    "id": "hVuDdLFJkFSb"
   },
   "source": [
    "LINEAR SUPPORT VECTOR MACHINE\n"
   ]
  },
  {
   "cell_type": "code",
   "execution_count": 56,
   "metadata": {
    "colab": {
     "base_uri": "https://localhost:8080/"
    },
    "id": "exk6nRwomgAt",
    "outputId": "5de5fd8f-a60c-4317-9c81-2baf81621a40"
   },
   "outputs": [
    {
     "name": "stdout",
     "output_type": "stream",
     "text": [
      "0.9255604116734809\n",
      "[[2291   55  120]\n",
      " [ 100 1486   69]\n",
      " [ 130   54 2788]]\n",
      "              precision    recall  f1-score   support\n",
      "\n",
      "    negative       0.91      0.93      0.92      2466\n",
      "     neutral       0.93      0.90      0.91      1655\n",
      "     positve       0.94      0.94      0.94      2972\n",
      "\n",
      "    accuracy                           0.93      7093\n",
      "   macro avg       0.93      0.92      0.92      7093\n",
      "weighted avg       0.93      0.93      0.93      7093\n",
      "\n",
      "CPU times: total: 2.53 s\n",
      "Wall time: 2.68 s\n"
     ]
    }
   ],
   "source": [
    "%%time\n",
    "# pipeline creation\n",
    "# 1. tfidVectorization\n",
    "# 2. linearSVC model\n",
    "from sklearn.svm import LinearSVC\n",
    "pipe = Pipeline([('tf', TfidfVectorizer()),\n",
    "                ('model', LinearSVC())])\n",
    "\n",
    "\n",
    "# Fit the pipeline to the data\n",
    "pipe.fit(x_train, y_train)\n",
    "# predict on test dataset\n",
    "pred = pipe.predict(x_test)\n",
    "# print accuracy score\n",
    "print(accuracy_score(pred, y_test))\n",
    "#print confusion matrix\n",
    "print(confusion_matrix(pred, y_test))\n",
    "#print classification report\n",
    "print(classification_report(pred, y_test))"
   ]
  },
  {
   "cell_type": "code",
   "execution_count": 57,
   "metadata": {},
   "outputs": [],
   "source": [
    "def metrix(pred, y_test):\n",
    "    print(f'acc: {accuracy_score(y_test, pred)}')\n",
    "    print(f'confusion: {confusion_matrix(y_test, pred)}')\n",
    "    print(f'classification: {classification_report(y_test,pred)}')"
   ]
  },
  {
   "cell_type": "code",
   "execution_count": 59,
   "metadata": {},
   "outputs": [],
   "source": [
    "def pipe(model):\n",
    "    pipeline = Pipeline(steps=[('cv', CountVectorizer()),\n",
    "                               ('tf', TfidfTransformer()),\n",
    "                          ('Lsvc', model)])\n",
    "    pipeline.fit(x_train,y_train)\n",
    "    pred = pipeline.predict(x_test)\n",
    "    \n",
    "    return metrix(pred, y_test)"
   ]
  },
  {
   "cell_type": "markdown",
   "metadata": {
    "id": "6Qq4dK32kBpM"
   },
   "source": [
    "LOGISTIC REGRESSION\n"
   ]
  },
  {
   "cell_type": "code",
   "execution_count": 62,
   "metadata": {
    "colab": {
     "base_uri": "https://localhost:8080/"
    },
    "id": "0w0yNn2_mf_s",
    "outputId": "17175fb5-83c7-4204-f358-42007a8f2168"
   },
   "outputs": [
    {
     "name": "stderr",
     "output_type": "stream",
     "text": [
      "C:\\Users\\Roshan Salunke\\anaconda3\\lib\\site-packages\\sklearn\\linear_model\\_logistic.py:763: ConvergenceWarning: lbfgs failed to converge (status=1):\n",
      "STOP: TOTAL NO. of ITERATIONS REACHED LIMIT.\n",
      "\n",
      "Increase the number of iterations (max_iter) or scale the data as shown in:\n",
      "    https://scikit-learn.org/stable/modules/preprocessing.html\n",
      "Please also refer to the documentation for alternative solver options:\n",
      "    https://scikit-learn.org/stable/modules/linear_model.html#logistic-regression\n",
      "  n_iter_i = _check_optimize_result(\n"
     ]
    },
    {
     "name": "stdout",
     "output_type": "stream",
     "text": [
      "acc: 0.8891865219230227\n",
      "confusion: [[2178  147  196]\n",
      " [  99 1403   93]\n",
      " [ 156   95 2726]]\n",
      "classification:               precision    recall  f1-score   support\n",
      "\n",
      "    negative       0.90      0.86      0.88      2521\n",
      "     neutral       0.85      0.88      0.87      1595\n",
      "     positve       0.90      0.92      0.91      2977\n",
      "\n",
      "    accuracy                           0.89      7093\n",
      "   macro avg       0.88      0.89      0.89      7093\n",
      "weighted avg       0.89      0.89      0.89      7093\n",
      "\n",
      "CPU times: total: 16.4 s\n",
      "Wall time: 4.73 s\n"
     ]
    }
   ],
   "source": [
    "%%time\n",
    "from sklearn.linear_model import LogisticRegression\n",
    "pipe(LogisticRegression())"
   ]
  },
  {
   "cell_type": "markdown",
   "metadata": {
    "id": "XbFrK_pXj-HC"
   },
   "source": [
    "MULTINOMIAL NAIVE BAYES\n"
   ]
  },
  {
   "cell_type": "code",
   "execution_count": 63,
   "metadata": {
    "colab": {
     "base_uri": "https://localhost:8080/"
    },
    "id": "ag3ceKiEmfxR",
    "outputId": "2d14e551-23eb-4ced-d133-e5fd561f7c72"
   },
   "outputs": [
    {
     "name": "stdout",
     "output_type": "stream",
     "text": [
      "acc: 0.6330184689130128\n",
      "confusion: [[1588   10  923]\n",
      " [ 277  197 1121]\n",
      " [ 262   10 2705]]\n",
      "classification:               precision    recall  f1-score   support\n",
      "\n",
      "    negative       0.75      0.63      0.68      2521\n",
      "     neutral       0.91      0.12      0.22      1595\n",
      "     positve       0.57      0.91      0.70      2977\n",
      "\n",
      "    accuracy                           0.63      7093\n",
      "   macro avg       0.74      0.55      0.53      7093\n",
      "weighted avg       0.71      0.63      0.59      7093\n",
      "\n",
      "CPU times: total: 1.42 s\n",
      "Wall time: 1.53 s\n"
     ]
    }
   ],
   "source": [
    "%%time\n",
    "from sklearn.naive_bayes import MultinomialNB\n",
    "pipe(MultinomialNB())\n",
    " "
   ]
  },
  {
   "cell_type": "markdown",
   "metadata": {
    "id": "-79YSosbj7HP"
   },
   "source": [
    "BERNOULLI NAIVE BAYES\n"
   ]
  },
  {
   "cell_type": "code",
   "execution_count": 64,
   "metadata": {
    "colab": {
     "base_uri": "https://localhost:8080/"
    },
    "id": "N-ftjtoEmfsP",
    "outputId": "fc46a6c1-da3e-46e4-a2f1-37e562cf708c"
   },
   "outputs": [
    {
     "name": "stdout",
     "output_type": "stream",
     "text": [
      "acc: 0.7342450303115748\n",
      "confusion: [[1829  130  562]\n",
      " [ 235  988  372]\n",
      " [ 446  140 2391]]\n",
      "classification:               precision    recall  f1-score   support\n",
      "\n",
      "    negative       0.73      0.73      0.73      2521\n",
      "     neutral       0.79      0.62      0.69      1595\n",
      "     positve       0.72      0.80      0.76      2977\n",
      "\n",
      "    accuracy                           0.73      7093\n",
      "   macro avg       0.74      0.72      0.73      7093\n",
      "weighted avg       0.74      0.73      0.73      7093\n",
      "\n",
      "CPU times: total: 1.44 s\n",
      "Wall time: 1.58 s\n"
     ]
    }
   ],
   "source": [
    "%%time\n",
    "from sklearn.naive_bayes import BernoulliNB\n",
    "pipe(BernoulliNB())\n"
   ]
  },
  {
   "cell_type": "markdown",
   "metadata": {
    "id": "DDcEnl9uj3yl"
   },
   "source": [
    "GRADIENT BOOSTING CLASSIFICATION MODEL\n"
   ]
  },
  {
   "cell_type": "code",
   "execution_count": 68,
   "metadata": {
    "colab": {
     "base_uri": "https://localhost:8080/"
    },
    "id": "vTT-HmujmfrR",
    "outputId": "8987cfa9-952f-4c27-cd42-452a26a479bb"
   },
   "outputs": [
    {
     "name": "stdout",
     "output_type": "stream",
     "text": [
      "acc: 0.8346256872973354\n",
      "confusion: [[1827  346  348]\n",
      " [  16 1560   19]\n",
      " [ 163  281 2533]]\n",
      "classification:               precision    recall  f1-score   support\n",
      "\n",
      "    negative       0.91      0.72      0.81      2521\n",
      "     neutral       0.71      0.98      0.82      1595\n",
      "     positve       0.87      0.85      0.86      2977\n",
      "\n",
      "    accuracy                           0.83      7093\n",
      "   macro avg       0.83      0.85      0.83      7093\n",
      "weighted avg       0.85      0.83      0.83      7093\n",
      "\n",
      "CPU times: total: 1min 26s\n",
      "Wall time: 1min 26s\n"
     ]
    }
   ],
   "source": [
    "%%time\n",
    "from sklearn.ensemble import GradientBoostingClassifier\n",
    "pipe(GradientBoostingClassifier())"
   ]
  },
  {
   "cell_type": "markdown",
   "metadata": {
    "id": "8RvWy4tSjwDV"
   },
   "source": [
    "DECISION TREE CLASSIFICATION MODEL\n"
   ]
  },
  {
   "cell_type": "code",
   "execution_count": 70,
   "metadata": {
    "colab": {
     "base_uri": "https://localhost:8080/"
    },
    "id": "63xamISqmfmd",
    "outputId": "f4c8b146-0b8b-49a0-bd3a-b40f67372709"
   },
   "outputs": [
    {
     "name": "stdout",
     "output_type": "stream",
     "text": [
      "acc: 0.8662061187085859\n",
      "confusion: [[2033   45  443]\n",
      " [  19 1553   23]\n",
      " [ 385   34 2558]]\n",
      "classification:               precision    recall  f1-score   support\n",
      "\n",
      "    negative       0.83      0.81      0.82      2521\n",
      "     neutral       0.95      0.97      0.96      1595\n",
      "     positve       0.85      0.86      0.85      2977\n",
      "\n",
      "    accuracy                           0.87      7093\n",
      "   macro avg       0.88      0.88      0.88      7093\n",
      "weighted avg       0.87      0.87      0.87      7093\n",
      "\n",
      "CPU times: total: 22.2 s\n",
      "Wall time: 22.7 s\n"
     ]
    }
   ],
   "source": [
    "%%time\n",
    "from sklearn.tree import DecisionTreeClassifier\n",
    "pipe(DecisionTreeClassifier())\n"
   ]
  },
  {
   "cell_type": "markdown",
   "metadata": {
    "id": "LenIHULAjsrv"
   },
   "source": [
    "K- NEAREST NEIGHBOUR CLASSIFIER MODEL\n"
   ]
  },
  {
   "cell_type": "code",
   "execution_count": 71,
   "metadata": {
    "colab": {
     "base_uri": "https://localhost:8080/"
    },
    "id": "UtU2_7-MzQ6N",
    "outputId": "ed7a03b4-1efd-432f-e1d2-aa0e4f2375e8"
   },
   "outputs": [
    {
     "name": "stdout",
     "output_type": "stream",
     "text": [
      "acc: 0.5495559001832793\n",
      "confusion: [[1590  350  581]\n",
      " [ 462  661  472]\n",
      " [ 787  543 1647]]\n",
      "classification:               precision    recall  f1-score   support\n",
      "\n",
      "    negative       0.56      0.63      0.59      2521\n",
      "     neutral       0.43      0.41      0.42      1595\n",
      "     positve       0.61      0.55      0.58      2977\n",
      "\n",
      "    accuracy                           0.55      7093\n",
      "   macro avg       0.53      0.53      0.53      7093\n",
      "weighted avg       0.55      0.55      0.55      7093\n",
      "\n",
      "CPU times: total: 10.8 s\n",
      "Wall time: 11.7 s\n"
     ]
    }
   ],
   "source": [
    "%%time\n",
    "from sklearn.neighbors import KNeighborsClassifier\n",
    "pipe(KNeighborsClassifier())\n"
   ]
  },
  {
   "cell_type": "markdown",
   "metadata": {
    "id": "YxNC09uekdZH"
   },
   "source": [
    "# working with test dataset"
   ]
  },
  {
   "cell_type": "code",
   "execution_count": 74,
   "metadata": {},
   "outputs": [],
   "source": [
    "\n",
    "pipeline = Pipeline(steps=[('cv', CountVectorizer()),\n",
    "                           ('tf', TfidfTransformer()),\n",
    "                      ('Lsvc', LinearSVC())])\n",
    "pipeline.fit(x_train,y_train)\n",
    "pred = pipeline.predict(x_test)"
   ]
  },
  {
   "cell_type": "code",
   "execution_count": 75,
   "metadata": {
    "id": "U4cHKaw6khr_"
   },
   "outputs": [],
   "source": [
    "# creating a dataframe of predicted results \n",
    "pred = pd.DataFrame(pred)"
   ]
  },
  {
   "cell_type": "code",
   "execution_count": 77,
   "metadata": {
    "colab": {
     "base_uri": "https://localhost:8080/",
     "height": 202
    },
    "id": "91noUUWikhD5",
    "outputId": "f0787fe5-700e-46e6-8f70-b83d36bfa83f"
   },
   "outputs": [
    {
     "data": {
      "text/html": [
       "<div>\n",
       "<style scoped>\n",
       "    .dataframe tbody tr th:only-of-type {\n",
       "        vertical-align: middle;\n",
       "    }\n",
       "\n",
       "    .dataframe tbody tr th {\n",
       "        vertical-align: top;\n",
       "    }\n",
       "\n",
       "    .dataframe thead th {\n",
       "        text-align: right;\n",
       "    }\n",
       "</style>\n",
       "<table border=\"1\" class=\"dataframe\">\n",
       "  <thead>\n",
       "    <tr style=\"text-align: right;\">\n",
       "      <th></th>\n",
       "      <th>0</th>\n",
       "    </tr>\n",
       "  </thead>\n",
       "  <tbody>\n",
       "    <tr>\n",
       "      <th>0</th>\n",
       "      <td>negative</td>\n",
       "    </tr>\n",
       "    <tr>\n",
       "      <th>1</th>\n",
       "      <td>negative</td>\n",
       "    </tr>\n",
       "    <tr>\n",
       "      <th>2</th>\n",
       "      <td>positve</td>\n",
       "    </tr>\n",
       "    <tr>\n",
       "      <th>3</th>\n",
       "      <td>positve</td>\n",
       "    </tr>\n",
       "    <tr>\n",
       "      <th>4</th>\n",
       "      <td>negative</td>\n",
       "    </tr>\n",
       "    <tr>\n",
       "      <th>...</th>\n",
       "      <td>...</td>\n",
       "    </tr>\n",
       "    <tr>\n",
       "      <th>7088</th>\n",
       "      <td>negative</td>\n",
       "    </tr>\n",
       "    <tr>\n",
       "      <th>7089</th>\n",
       "      <td>neutral</td>\n",
       "    </tr>\n",
       "    <tr>\n",
       "      <th>7090</th>\n",
       "      <td>positve</td>\n",
       "    </tr>\n",
       "    <tr>\n",
       "      <th>7091</th>\n",
       "      <td>negative</td>\n",
       "    </tr>\n",
       "    <tr>\n",
       "      <th>7092</th>\n",
       "      <td>neutral</td>\n",
       "    </tr>\n",
       "  </tbody>\n",
       "</table>\n",
       "<p>7093 rows × 1 columns</p>\n",
       "</div>"
      ],
      "text/plain": [
       "             0\n",
       "0     negative\n",
       "1     negative\n",
       "2      positve\n",
       "3      positve\n",
       "4     negative\n",
       "...        ...\n",
       "7088  negative\n",
       "7089   neutral\n",
       "7090   positve\n",
       "7091  negative\n",
       "7092   neutral\n",
       "\n",
       "[7093 rows x 1 columns]"
      ]
     },
     "execution_count": 77,
     "metadata": {},
     "output_type": "execute_result"
    }
   ],
   "source": [
    "pred"
   ]
  },
  {
   "cell_type": "markdown",
   "metadata": {
    "id": "LcDOjy2MfkG2"
   },
   "source": [
    "# Now working with headlines + description"
   ]
  },
  {
   "cell_type": "code",
   "execution_count": 79,
   "metadata": {
    "colab": {
     "base_uri": "https://localhost:8080/",
     "height": 202
    },
    "id": "HOSweU4mzTgq",
    "outputId": "ad66fc23-e9f7-473c-d7bb-5520937d7698"
   },
   "outputs": [
    {
     "data": {
      "text/html": [
       "<div>\n",
       "<style scoped>\n",
       "    .dataframe tbody tr th:only-of-type {\n",
       "        vertical-align: middle;\n",
       "    }\n",
       "\n",
       "    .dataframe tbody tr th {\n",
       "        vertical-align: top;\n",
       "    }\n",
       "\n",
       "    .dataframe thead th {\n",
       "        text-align: right;\n",
       "    }\n",
       "</style>\n",
       "<table border=\"1\" class=\"dataframe\">\n",
       "  <thead>\n",
       "    <tr style=\"text-align: right;\">\n",
       "      <th></th>\n",
       "      <th>Headlines</th>\n",
       "      <th>Time</th>\n",
       "      <th>Description</th>\n",
       "      <th>ds_score</th>\n",
       "      <th>info</th>\n",
       "    </tr>\n",
       "  </thead>\n",
       "  <tbody>\n",
       "    <tr>\n",
       "      <th>0</th>\n",
       "      <td>Jim Cramer: A better way to invest in the Covi...</td>\n",
       "      <td>7:51  PM ET Fri, 17 July 2020</td>\n",
       "      <td>mad money host jim cramer recommend buy four c...</td>\n",
       "      <td>positve</td>\n",
       "      <td>Jim Cramer: A better way to invest in the Covi...</td>\n",
       "    </tr>\n",
       "    <tr>\n",
       "      <th>1</th>\n",
       "      <td>Cramer's lightning round: I would own Teradyne</td>\n",
       "      <td>7:33  PM ET Fri, 17 July 2020</td>\n",
       "      <td>mad money host jim cramer ring lightn round be...</td>\n",
       "      <td>negative</td>\n",
       "      <td>Cramer's lightning round: I would own Teradyne...</td>\n",
       "    </tr>\n",
       "    <tr>\n",
       "      <th>3</th>\n",
       "      <td>Cramer's week ahead: Big week for earnings, ev...</td>\n",
       "      <td>7:25  PM ET Fri, 17 July 2020</td>\n",
       "      <td>well pay earn noncovid compani lancet publish ...</td>\n",
       "      <td>positve</td>\n",
       "      <td>Cramer's week ahead: Big week for earnings, ev...</td>\n",
       "    </tr>\n",
       "    <tr>\n",
       "      <th>4</th>\n",
       "      <td>IQ Capital CEO Keith Bliss says tech and healt...</td>\n",
       "      <td>4:24  PM ET Fri, 17 July 2020</td>\n",
       "      <td>keith bliss iq capit ceo join close bell talk ...</td>\n",
       "      <td>positve</td>\n",
       "      <td>IQ Capital CEO Keith Bliss says tech and healt...</td>\n",
       "    </tr>\n",
       "    <tr>\n",
       "      <th>5</th>\n",
       "      <td>Wall Street delivered the 'kind of pullback I'...</td>\n",
       "      <td>7:36  PM ET Thu, 16 July 2020</td>\n",
       "      <td>look stock highqual compani go lower even thou...</td>\n",
       "      <td>negative</td>\n",
       "      <td>Wall Street delivered the 'kind of pullback I'...</td>\n",
       "    </tr>\n",
       "  </tbody>\n",
       "</table>\n",
       "</div>"
      ],
      "text/plain": [
       "                                           Headlines  \\\n",
       "0  Jim Cramer: A better way to invest in the Covi...   \n",
       "1     Cramer's lightning round: I would own Teradyne   \n",
       "3  Cramer's week ahead: Big week for earnings, ev...   \n",
       "4  IQ Capital CEO Keith Bliss says tech and healt...   \n",
       "5  Wall Street delivered the 'kind of pullback I'...   \n",
       "\n",
       "                             Time  \\\n",
       "0   7:51  PM ET Fri, 17 July 2020   \n",
       "1   7:33  PM ET Fri, 17 July 2020   \n",
       "3   7:25  PM ET Fri, 17 July 2020   \n",
       "4   4:24  PM ET Fri, 17 July 2020   \n",
       "5   7:36  PM ET Thu, 16 July 2020   \n",
       "\n",
       "                                         Description  ds_score  \\\n",
       "0  mad money host jim cramer recommend buy four c...   positve   \n",
       "1  mad money host jim cramer ring lightn round be...  negative   \n",
       "3  well pay earn noncovid compani lancet publish ...   positve   \n",
       "4  keith bliss iq capit ceo join close bell talk ...   positve   \n",
       "5  look stock highqual compani go lower even thou...  negative   \n",
       "\n",
       "                                                info  \n",
       "0  Jim Cramer: A better way to invest in the Covi...  \n",
       "1  Cramer's lightning round: I would own Teradyne...  \n",
       "3  Cramer's week ahead: Big week for earnings, ev...  \n",
       "4  IQ Capital CEO Keith Bliss says tech and healt...  \n",
       "5  Wall Street delivered the 'kind of pullback I'...  "
      ]
     },
     "execution_count": 79,
     "metadata": {},
     "output_type": "execute_result"
    }
   ],
   "source": [
    "# merge headlines and description of new dataset and name it info\n",
    "df['info'] = df['Headlines'] + df['Description']\n",
    "df.head()"
   ]
  },
  {
   "cell_type": "code",
   "execution_count": 80,
   "metadata": {
    "colab": {
     "base_uri": "https://localhost:8080/",
     "height": 202
    },
    "id": "_ZTFzLcGzTb3",
    "outputId": "afd1bcb2-1616-46f3-9099-e3c48f246d50"
   },
   "outputs": [
    {
     "data": {
      "text/html": [
       "<div>\n",
       "<style scoped>\n",
       "    .dataframe tbody tr th:only-of-type {\n",
       "        vertical-align: middle;\n",
       "    }\n",
       "\n",
       "    .dataframe tbody tr th {\n",
       "        vertical-align: top;\n",
       "    }\n",
       "\n",
       "    .dataframe thead th {\n",
       "        text-align: right;\n",
       "    }\n",
       "</style>\n",
       "<table border=\"1\" class=\"dataframe\">\n",
       "  <thead>\n",
       "    <tr style=\"text-align: right;\">\n",
       "      <th></th>\n",
       "      <th>Headlines</th>\n",
       "      <th>info</th>\n",
       "    </tr>\n",
       "  </thead>\n",
       "  <tbody>\n",
       "    <tr>\n",
       "      <th>0</th>\n",
       "      <td>Jim Cramer: A better way to invest in the Covi...</td>\n",
       "      <td>Jim Cramer: A better way to invest in the Covi...</td>\n",
       "    </tr>\n",
       "    <tr>\n",
       "      <th>1</th>\n",
       "      <td>Cramer's lightning round: I would own Teradyne</td>\n",
       "      <td>Cramer's lightning round: I would own Teradyne...</td>\n",
       "    </tr>\n",
       "    <tr>\n",
       "      <th>3</th>\n",
       "      <td>Cramer's week ahead: Big week for earnings, ev...</td>\n",
       "      <td>Cramer's week ahead: Big week for earnings, ev...</td>\n",
       "    </tr>\n",
       "    <tr>\n",
       "      <th>4</th>\n",
       "      <td>IQ Capital CEO Keith Bliss says tech and healt...</td>\n",
       "      <td>IQ Capital CEO Keith Bliss says tech and healt...</td>\n",
       "    </tr>\n",
       "    <tr>\n",
       "      <th>5</th>\n",
       "      <td>Wall Street delivered the 'kind of pullback I'...</td>\n",
       "      <td>Wall Street delivered the 'kind of pullback I'...</td>\n",
       "    </tr>\n",
       "  </tbody>\n",
       "</table>\n",
       "</div>"
      ],
      "text/plain": [
       "                                           Headlines  \\\n",
       "0  Jim Cramer: A better way to invest in the Covi...   \n",
       "1     Cramer's lightning round: I would own Teradyne   \n",
       "3  Cramer's week ahead: Big week for earnings, ev...   \n",
       "4  IQ Capital CEO Keith Bliss says tech and healt...   \n",
       "5  Wall Street delivered the 'kind of pullback I'...   \n",
       "\n",
       "                                                info  \n",
       "0  Jim Cramer: A better way to invest in the Covi...  \n",
       "1  Cramer's lightning round: I would own Teradyne...  \n",
       "3  Cramer's week ahead: Big week for earnings, ev...  \n",
       "4  IQ Capital CEO Keith Bliss says tech and healt...  \n",
       "5  Wall Street delivered the 'kind of pullback I'...  "
      ]
     },
     "execution_count": 80,
     "metadata": {},
     "output_type": "execute_result"
    }
   ],
   "source": [
    "# only keep info and time column . drop all remaining columns\n",
    "df = df[['Headlines', 'info']]\n",
    "df.head()"
   ]
  },
  {
   "cell_type": "code",
   "execution_count": 82,
   "metadata": {
    "colab": {
     "base_uri": "https://localhost:8080/",
     "height": 662
    },
    "id": "iMOW0ljOzTaN",
    "outputId": "751af887-0be3-45e1-d2cf-8e503b6a9783"
   },
   "outputs": [
    {
     "name": "stderr",
     "output_type": "stream",
     "text": [
      "C:\\Users\\Roshan Salunke\\AppData\\Local\\Temp\\ipykernel_13652\\2689080011.py:2: SettingWithCopyWarning: \n",
      "A value is trying to be set on a copy of a slice from a DataFrame.\n",
      "Try using .loc[row_indexer,col_indexer] = value instead\n",
      "\n",
      "See the caveats in the documentation: https://pandas.pydata.org/pandas-docs/stable/user_guide/indexing.html#returning-a-view-versus-a-copy\n",
      "  df['info'] = df['info'].apply(preprocessing)\n"
     ]
    }
   ],
   "source": [
    "# apply preprocessing on info column\n",
    "df['info'] = df['info'].apply(preprocessing)"
   ]
  },
  {
   "cell_type": "code",
   "execution_count": 83,
   "metadata": {
    "colab": {
     "base_uri": "https://localhost:8080/",
     "height": 414
    },
    "id": "Bww_M5RQzTXm",
    "outputId": "0c392b14-3bc2-4766-f51b-b14e3716638e"
   },
   "outputs": [
    {
     "name": "stderr",
     "output_type": "stream",
     "text": [
      "C:\\Users\\Roshan Salunke\\AppData\\Local\\Temp\\ipykernel_13652\\1485071660.py:5: SettingWithCopyWarning: \n",
      "A value is trying to be set on a copy of a slice from a DataFrame.\n",
      "Try using .loc[row_indexer,col_indexer] = value instead\n",
      "\n",
      "See the caveats in the documentation: https://pandas.pydata.org/pandas-docs/stable/user_guide/indexing.html#returning-a-view-versus-a-copy\n",
      "  df['info_score'] = info_score\n"
     ]
    }
   ],
   "source": [
    "# analyze polarity score of values in info and  add new column of it in dataset\n",
    "info_score = []\n",
    "for value in df['info'].values:\n",
    "    info_score.append(analyzer.polarity_scores(value)['compound'])\n",
    "df['info_score'] = info_score"
   ]
  },
  {
   "cell_type": "code",
   "execution_count": 84,
   "metadata": {
    "colab": {
     "base_uri": "https://localhost:8080/",
     "height": 414
    },
    "id": "duwvemaLzTWh",
    "outputId": "f771aff0-a319-4c10-ce87-0f1088063d82"
   },
   "outputs": [
    {
     "name": "stderr",
     "output_type": "stream",
     "text": [
      "C:\\Users\\Roshan Salunke\\AppData\\Local\\Temp\\ipykernel_13652\\786168046.py:2: SettingWithCopyWarning: \n",
      "A value is trying to be set on a copy of a slice from a DataFrame.\n",
      "Try using .loc[row_indexer,col_indexer] = value instead\n",
      "\n",
      "See the caveats in the documentation: https://pandas.pydata.org/pandas-docs/stable/user_guide/indexing.html#returning-a-view-versus-a-copy\n",
      "  df['info_score'] = df['info_score'].apply(score)\n"
     ]
    }
   ],
   "source": [
    "# apply the function  which decides sentiment to  polarity score column\n",
    "df['info_score'] = df['info_score'].apply(score)"
   ]
  },
  {
   "cell_type": "code",
   "execution_count": 85,
   "metadata": {
    "colab": {
     "base_uri": "https://localhost:8080/",
     "height": 297
    },
    "id": "ohPDx_0glaeM",
    "outputId": "74fba960-52d3-4a2c-e952-8e5498b7fb61"
   },
   "outputs": [
    {
     "name": "stderr",
     "output_type": "stream",
     "text": [
      "C:\\Users\\Roshan Salunke\\anaconda3\\lib\\site-packages\\seaborn\\_decorators.py:36: FutureWarning: Pass the following variable as a keyword arg: x. From version 0.12, the only valid positional argument will be `data`, and passing other arguments without an explicit keyword will result in an error or misinterpretation.\n",
      "  warnings.warn(\n"
     ]
    },
    {
     "data": {
      "text/plain": [
       "<AxesSubplot:ylabel='count'>"
      ]
     },
     "execution_count": 85,
     "metadata": {},
     "output_type": "execute_result"
    },
    {
     "data": {
      "image/png": "[encoded data removed]",
      "text/plain": [
       "<Figure size 640x480 with 1 Axes>"
      ]
     },
     "metadata": {},
     "output_type": "display_data"
    }
   ],
   "source": [
    "# perform count plot on info_score column\n",
    "sns.countplot(df['info_score'].values)"
   ]
  },
  {
   "cell_type": "markdown",
   "metadata": {
    "id": "svGQaSfhl6_5"
   },
   "source": [
    "In the info\n",
    "\n",
    "there are approx\n",
    "\n",
    "15500 positive statment\n",
    "\n",
    "13000 negative statment\n",
    "\n",
    "6500 neutral statment"
   ]
  },
  {
   "cell_type": "code",
   "execution_count": 89,
   "metadata": {
    "colab": {
     "base_uri": "https://localhost:8080/",
     "height": 542
    },
    "id": "BNaH0yfFll7Z",
    "outputId": "25db852a-077a-486a-d810-b8d97fab4adc"
   },
   "outputs": [
    {
     "data": {
      "text/plain": [
       "([<matplotlib.patches.Wedge at 0x15e0701fc10>,\n",
       "  <matplotlib.patches.Wedge at 0x15e0701faf0>,\n",
       "  <matplotlib.patches.Wedge at 0x15e070206a0>],\n",
       " [Text(0.19171673043556015, 1.0831642051282433, 'positive'),\n",
       "  Text(-0.7500402336737688, -0.8046363451091421, 'neutral'),\n",
       "  Text(0.9230441349659064, -0.5983222584068234, 'negative')])"
      ]
     },
     "execution_count": 89,
     "metadata": {},
     "output_type": "execute_result"
    },
    {
     "data": {
      "image/png": "[encoded data removed]",
      "text/plain": [
       "<Figure size 640x480 with 1 Axes>"
      ]
     },
     "metadata": {},
     "output_type": "display_data"
    }
   ],
   "source": [
    "# perform pie chart on info_score column\n",
    "plt.pie(df['info_score'].value_counts(), labels=['positive','neutral','negative'])"
   ]
  },
  {
   "cell_type": "markdown",
   "metadata": {
    "id": "e0JsgArfmgi-"
   },
   "source": [
    "In the dataset\n",
    "\n",
    "info contains\n",
    "\n",
    "44.5% positive statments\n",
    "\n",
    "37.2% negtive statements\n",
    "\n",
    "18.3% neutral statments"
   ]
  },
  {
   "cell_type": "markdown",
   "metadata": {
    "id": "FDaguQJMfrML"
   },
   "source": [
    "# modeling on headlines + description"
   ]
  },
  {
   "cell_type": "code",
   "execution_count": 90,
   "metadata": {
    "id": "U-sjg3NEzTRd"
   },
   "outputs": [],
   "source": [
    "# split the dataset  into test and train \n",
    "# 80% train , 20% test and random state 212\n",
    "x_train, x_test, y_train, y_test = train_test_split(df['info'],df['info_score'],test_size=0.2)"
   ]
  },
  {
   "cell_type": "markdown",
   "metadata": {
    "id": "h469Z39Zjjvn"
   },
   "source": [
    "LINEAR SUPPORT VECTOR MACHINE\n"
   ]
  },
  {
   "cell_type": "code",
   "execution_count": 91,
   "metadata": {
    "colab": {
     "base_uri": "https://localhost:8080/"
    },
    "id": "atnWirUQzTQI",
    "outputId": "bc1c5870-4985-4879-80f1-dc8928f98b4a"
   },
   "outputs": [
    {
     "name": "stdout",
     "output_type": "stream",
     "text": [
      "0.8872127449598195\n",
      "[[2322   99  164]\n",
      " [ 124 1080  100]\n",
      " [ 170  143 2891]]\n",
      "              precision    recall  f1-score   support\n",
      "\n",
      "    negative       0.89      0.90      0.89      2585\n",
      "     neutral       0.82      0.83      0.82      1304\n",
      "     positve       0.92      0.90      0.91      3204\n",
      "\n",
      "    accuracy                           0.89      7093\n",
      "   macro avg       0.87      0.88      0.87      7093\n",
      "weighted avg       0.89      0.89      0.89      7093\n",
      "\n",
      "CPU times: total: 2.86 s\n",
      "Wall time: 2.93 s\n"
     ]
    }
   ],
   "source": [
    "\n",
    "%%time\n",
    "# pipeline creation\n",
    "# 1. tfidVectorization\n",
    "# 2. linearSVC model\n",
    "from sklearn.svm import LinearSVC\n",
    "pipe = Pipeline([('tf', TfidfVectorizer()),\n",
    "                ('model', LinearSVC())])\n",
    "\n",
    "\n",
    "# Fit the pipeline to the data\n",
    "pipe.fit(x_train, y_train)\n",
    "# predict on test dataset\n",
    "pred = pipe.predict(x_test)\n",
    "# print accuracy score\n",
    "print(accuracy_score(pred, y_test))\n",
    "#print confusion matrix\n",
    "print(confusion_matrix(pred, y_test))\n",
    "#print classification report\n",
    "print(classification_report(pred, y_test))"
   ]
  },
  {
   "cell_type": "code",
   "execution_count": 93,
   "metadata": {},
   "outputs": [],
   "source": [
    "def pipe(model):\n",
    "    pipeline = Pipeline(steps=[('cv', CountVectorizer()),\n",
    "                               ('tf', TfidfTransformer()),\n",
    "                          ('Lsvc', model)])\n",
    "    pipeline.fit(x_train,y_train)\n",
    "    pred = pipeline.predict(x_test)\n",
    "    \n",
    "    return metrix(pred, y_test)"
   ]
  },
  {
   "cell_type": "markdown",
   "metadata": {
    "id": "ucmhtCoTjf7H"
   },
   "source": [
    "LOGISTIC REGRESSION\n"
   ]
  },
  {
   "cell_type": "code",
   "execution_count": 94,
   "metadata": {
    "colab": {
     "base_uri": "https://localhost:8080/"
    },
    "id": "UXsbyfc22sXR",
    "outputId": "8c47b13d-6bf9-4cf6-cbc6-4f6712f72db7"
   },
   "outputs": [
    {
     "name": "stderr",
     "output_type": "stream",
     "text": [
      "C:\\Users\\Roshan Salunke\\anaconda3\\lib\\site-packages\\sklearn\\linear_model\\_logistic.py:763: ConvergenceWarning: lbfgs failed to converge (status=1):\n",
      "STOP: TOTAL NO. of ITERATIONS REACHED LIMIT.\n",
      "\n",
      "Increase the number of iterations (max_iter) or scale the data as shown in:\n",
      "    https://scikit-learn.org/stable/modules/preprocessing.html\n",
      "Please also refer to the documentation for alternative solver options:\n",
      "    https://scikit-learn.org/stable/modules/linear_model.html#logistic-regression\n",
      "  n_iter_i = _check_optimize_result(\n"
     ]
    },
    {
     "name": "stdout",
     "output_type": "stream",
     "text": [
      "acc: 0.8509798392781616\n",
      "confusion: [[2245  132  239]\n",
      " [ 160  928  234]\n",
      " [ 208   84 2863]]\n",
      "classification:               precision    recall  f1-score   support\n",
      "\n",
      "    negative       0.86      0.86      0.86      2616\n",
      "     neutral       0.81      0.70      0.75      1322\n",
      "     positve       0.86      0.91      0.88      3155\n",
      "\n",
      "    accuracy                           0.85      7093\n",
      "   macro avg       0.84      0.82      0.83      7093\n",
      "weighted avg       0.85      0.85      0.85      7093\n",
      "\n",
      "CPU times: total: 25.1 s\n",
      "Wall time: 7.6 s\n"
     ]
    }
   ],
   "source": [
    "%%time\n",
    "pipe(LogisticRegression())\n",
    " "
   ]
  },
  {
   "cell_type": "markdown",
   "metadata": {
    "id": "ozLeBo9qjdNR"
   },
   "source": [
    "MULTINOMIAL NAIVE BAYES\n"
   ]
  },
  {
   "cell_type": "code",
   "execution_count": 95,
   "metadata": {
    "colab": {
     "base_uri": "https://localhost:8080/"
    },
    "id": "kxTsmokz2sVw",
    "outputId": "87aedc65-0edf-4775-a543-29617044ca95"
   },
   "outputs": [
    {
     "name": "stdout",
     "output_type": "stream",
     "text": [
      "acc: 0.6328774848442126\n",
      "confusion: [[1590    2 1024]\n",
      " [ 284   17 1021]\n",
      " [ 273    0 2882]]\n",
      "classification:               precision    recall  f1-score   support\n",
      "\n",
      "    negative       0.74      0.61      0.67      2616\n",
      "     neutral       0.89      0.01      0.03      1322\n",
      "     positve       0.58      0.91      0.71      3155\n",
      "\n",
      "    accuracy                           0.63      7093\n",
      "   macro avg       0.74      0.51      0.47      7093\n",
      "weighted avg       0.70      0.63      0.57      7093\n",
      "\n",
      "CPU times: total: 1.81 s\n",
      "Wall time: 1.95 s\n"
     ]
    }
   ],
   "source": [
    "%%time\n",
    "pipe(MultinomialNB())\n",
    " "
   ]
  },
  {
   "cell_type": "markdown",
   "metadata": {
    "id": "91Ms-94_jaKm"
   },
   "source": [
    "BERNOULLI NAIVE BAYES\n"
   ]
  },
  {
   "cell_type": "code",
   "execution_count": 96,
   "metadata": {
    "colab": {
     "base_uri": "https://localhost:8080/"
    },
    "id": "Tx_-8y_x2sSO",
    "outputId": "131fa1a0-1fdc-46e0-8b22-9d6f77a01758"
   },
   "outputs": [
    {
     "name": "stdout",
     "output_type": "stream",
     "text": [
      "acc: 0.6844776540250952\n",
      "confusion: [[1923   23  670]\n",
      " [ 378  292  652]\n",
      " [ 493   22 2640]]\n",
      "classification:               precision    recall  f1-score   support\n",
      "\n",
      "    negative       0.69      0.74      0.71      2616\n",
      "     neutral       0.87      0.22      0.35      1322\n",
      "     positve       0.67      0.84      0.74      3155\n",
      "\n",
      "    accuracy                           0.68      7093\n",
      "   macro avg       0.74      0.60      0.60      7093\n",
      "weighted avg       0.71      0.68      0.66      7093\n",
      "\n",
      "CPU times: total: 1.86 s\n",
      "Wall time: 2.02 s\n"
     ]
    }
   ],
   "source": [
    "%%time\n",
    "pipe(BernoulliNB())\n",
    " "
   ]
  },
  {
   "cell_type": "markdown",
   "metadata": {
    "id": "N1OOQeVmjWjx"
   },
   "source": [
    "GRADIENT BOOSTING CLASSIFICATION MODEL\n"
   ]
  },
  {
   "cell_type": "code",
   "execution_count": 97,
   "metadata": {
    "colab": {
     "base_uri": "https://localhost:8080/"
    },
    "id": "K_5dgcgS2sQj",
    "outputId": "962b1d1d-6623-4ba7-aa74-4efb47f9bac1"
   },
   "outputs": [
    {
     "name": "stdout",
     "output_type": "stream",
     "text": [
      "acc: 0.71873678274355\n",
      "confusion: [[1914   42  660]\n",
      " [  14  283 1025]\n",
      " [ 218   36 2901]]\n",
      "classification:               precision    recall  f1-score   support\n",
      "\n",
      "    negative       0.89      0.73      0.80      2616\n",
      "     neutral       0.78      0.21      0.34      1322\n",
      "     positve       0.63      0.92      0.75      3155\n",
      "\n",
      "    accuracy                           0.72      7093\n",
      "   macro avg       0.77      0.62      0.63      7093\n",
      "weighted avg       0.76      0.72      0.69      7093\n",
      "\n",
      "CPU times: total: 1min 45s\n",
      "Wall time: 1min 46s\n"
     ]
    }
   ],
   "source": [
    "%%time\n",
    "pipe(GradientBoostingClassifier())\n",
    " "
   ]
  },
  {
   "cell_type": "markdown",
   "metadata": {
    "id": "2SBHJMuyjPmm"
   },
   "source": [
    "DECISION TREE CLASSIFICATION MODEL\n"
   ]
  },
  {
   "cell_type": "code",
   "execution_count": 98,
   "metadata": {
    "colab": {
     "base_uri": "https://localhost:8080/"
    },
    "id": "EwiF9Pwj2sLZ",
    "outputId": "5663ea05-9a2b-4caf-fc9b-8d84c90d8d4d"
   },
   "outputs": [
    {
     "name": "stdout",
     "output_type": "stream",
     "text": [
      "acc: 0.8346256872973354\n",
      "confusion: [[2060   75  481]\n",
      " [  38 1240   44]\n",
      " [ 487   48 2620]]\n",
      "classification:               precision    recall  f1-score   support\n",
      "\n",
      "    negative       0.80      0.79      0.79      2616\n",
      "     neutral       0.91      0.94      0.92      1322\n",
      "     positve       0.83      0.83      0.83      3155\n",
      "\n",
      "    accuracy                           0.83      7093\n",
      "   macro avg       0.85      0.85      0.85      7093\n",
      "weighted avg       0.83      0.83      0.83      7093\n",
      "\n",
      "CPU times: total: 25 s\n",
      "Wall time: 25.6 s\n"
     ]
    }
   ],
   "source": [
    "%%time\n",
    "pipe(DecisionTreeClassifier())\n"
   ]
  },
  {
   "cell_type": "markdown",
   "metadata": {
    "id": "IPUcodK0jLVr"
   },
   "source": [
    "K- NEAREST NEIGHBOUR CLASSIFIER MODEL\n"
   ]
  },
  {
   "cell_type": "code",
   "execution_count": 99,
   "metadata": {
    "colab": {
     "base_uri": "https://localhost:8080/"
    },
    "id": "_8XjVbty2sIL",
    "outputId": "0f047183-29a5-4fcc-ca9c-6e5322ac49fc"
   },
   "outputs": [
    {
     "name": "stdout",
     "output_type": "stream",
     "text": [
      "acc: 0.555618215141689\n",
      "confusion: [[1681  244  691]\n",
      " [ 495  386  441]\n",
      " [ 879  402 1874]]\n",
      "classification:               precision    recall  f1-score   support\n",
      "\n",
      "    negative       0.55      0.64      0.59      2616\n",
      "     neutral       0.37      0.29      0.33      1322\n",
      "     positve       0.62      0.59      0.61      3155\n",
      "\n",
      "    accuracy                           0.56      7093\n",
      "   macro avg       0.52      0.51      0.51      7093\n",
      "weighted avg       0.55      0.56      0.55      7093\n",
      "\n",
      "CPU times: total: 11.7 s\n",
      "Wall time: 12.1 s\n"
     ]
    }
   ],
   "source": [
    "%%time\n",
    "pipe(KNeighborsClassifier())"
   ]
  },
  {
   "cell_type": "markdown",
   "metadata": {
    "id": "urk4DVzslAXB"
   },
   "source": [
    "# working with test data"
   ]
  },
  {
   "cell_type": "code",
   "execution_count": 101,
   "metadata": {
    "colab": {
     "base_uri": "https://localhost:8080/"
    },
    "id": "T7HvvBOW2sGj",
    "outputId": "44b79c1b-84ea-4b00-9200-d75f8d514603"
   },
   "outputs": [
    {
     "name": "stdout",
     "output_type": "stream",
     "text": [
      "0.8872127449598195\n",
      "[[2322   99  164]\n",
      " [ 124 1080  100]\n",
      " [ 170  143 2891]]\n",
      "              precision    recall  f1-score   support\n",
      "\n",
      "    negative       0.89      0.90      0.89      2585\n",
      "     neutral       0.82      0.83      0.82      1304\n",
      "     positve       0.92      0.90      0.91      3204\n",
      "\n",
      "    accuracy                           0.89      7093\n",
      "   macro avg       0.87      0.88      0.87      7093\n",
      "weighted avg       0.89      0.89      0.89      7093\n",
      "\n",
      "CPU times: total: 2.86 s\n",
      "Wall time: 2.96 s\n"
     ]
    }
   ],
   "source": [
    "%%time\n",
    "# Perforn the prediction on the test dataset\n",
    "\n",
    "\n",
    "# pipeline creation\n",
    "# 1. tfidVectorization\n",
    "# 2. linearSVC model\n",
    "from sklearn.svm import LinearSVC\n",
    "pipe = Pipeline([('tf', TfidfVectorizer()),\n",
    "                ('model', LinearSVC())])\n",
    "\n",
    "\n",
    "# Fit the pipeline to the data\n",
    "pipe.fit(x_train, y_train)\n",
    "# predict on test dataset\n",
    "pred = pipe.predict(x_test)\n",
    "# print accuracy score\n",
    "print(accuracy_score(pred, y_test))\n",
    "#print confusion matrix\n",
    "print(confusion_matrix(pred, y_test))\n",
    "#print classification report\n",
    "print(classification_report(pred, y_test))"
   ]
  },
  {
   "cell_type": "code",
   "execution_count": 102,
   "metadata": {
    "id": "pOKTBCnPlD5J"
   },
   "outputs": [],
   "source": [
    "# creating a dataframe of predicted results \n",
    "pred = pd.DataFrame(pred)"
   ]
  },
  {
   "cell_type": "code",
   "execution_count": 103,
   "metadata": {
    "colab": {
     "base_uri": "https://localhost:8080/",
     "height": 202
    },
    "id": "XhfTaQoflEwZ",
    "outputId": "9a84c83e-77a2-4bc5-c829-de61e6a7ff3c"
   },
   "outputs": [
    {
     "data": {
      "text/html": [
       "<div>\n",
       "<style scoped>\n",
       "    .dataframe tbody tr th:only-of-type {\n",
       "        vertical-align: middle;\n",
       "    }\n",
       "\n",
       "    .dataframe tbody tr th {\n",
       "        vertical-align: top;\n",
       "    }\n",
       "\n",
       "    .dataframe thead th {\n",
       "        text-align: right;\n",
       "    }\n",
       "</style>\n",
       "<table border=\"1\" class=\"dataframe\">\n",
       "  <thead>\n",
       "    <tr style=\"text-align: right;\">\n",
       "      <th></th>\n",
       "      <th>0</th>\n",
       "    </tr>\n",
       "  </thead>\n",
       "  <tbody>\n",
       "    <tr>\n",
       "      <th>0</th>\n",
       "      <td>neutral</td>\n",
       "    </tr>\n",
       "    <tr>\n",
       "      <th>1</th>\n",
       "      <td>positve</td>\n",
       "    </tr>\n",
       "    <tr>\n",
       "      <th>2</th>\n",
       "      <td>positve</td>\n",
       "    </tr>\n",
       "    <tr>\n",
       "      <th>3</th>\n",
       "      <td>negative</td>\n",
       "    </tr>\n",
       "    <tr>\n",
       "      <th>4</th>\n",
       "      <td>negative</td>\n",
       "    </tr>\n",
       "    <tr>\n",
       "      <th>...</th>\n",
       "      <td>...</td>\n",
       "    </tr>\n",
       "    <tr>\n",
       "      <th>7088</th>\n",
       "      <td>negative</td>\n",
       "    </tr>\n",
       "    <tr>\n",
       "      <th>7089</th>\n",
       "      <td>positve</td>\n",
       "    </tr>\n",
       "    <tr>\n",
       "      <th>7090</th>\n",
       "      <td>positve</td>\n",
       "    </tr>\n",
       "    <tr>\n",
       "      <th>7091</th>\n",
       "      <td>negative</td>\n",
       "    </tr>\n",
       "    <tr>\n",
       "      <th>7092</th>\n",
       "      <td>positve</td>\n",
       "    </tr>\n",
       "  </tbody>\n",
       "</table>\n",
       "<p>7093 rows × 1 columns</p>\n",
       "</div>"
      ],
      "text/plain": [
       "             0\n",
       "0      neutral\n",
       "1      positve\n",
       "2      positve\n",
       "3     negative\n",
       "4     negative\n",
       "...        ...\n",
       "7088  negative\n",
       "7089   positve\n",
       "7090   positve\n",
       "7091  negative\n",
       "7092   positve\n",
       "\n",
       "[7093 rows x 1 columns]"
      ]
     },
     "execution_count": 103,
     "metadata": {},
     "output_type": "execute_result"
    }
   ],
   "source": [
    "pred"
   ]
  },
  {
   "cell_type": "markdown",
   "metadata": {
    "id": "VOS21GT-gOzH"
   },
   "source": [
    "# now working on headlines"
   ]
  },
  {
   "cell_type": "code",
   "execution_count": 107,
   "metadata": {
    "colab": {
     "base_uri": "https://localhost:8080/",
     "height": 202
    },
    "id": "wFmAITs64xzF",
    "outputId": "1ef5c066-55a3-413b-e5a6-936f6ce06146"
   },
   "outputs": [],
   "source": [
    "# from the dataset you have copied before delete the column of description\n",
    "d.drop('Description',axis=1,inplace=True)"
   ]
  },
  {
   "cell_type": "code",
   "execution_count": 109,
   "metadata": {
    "colab": {
     "base_uri": "https://localhost:8080/",
     "height": 202
    },
    "id": "isurNknP7iib",
    "outputId": "6df7401d-7ac2-48b1-e391-d9fc65f14305"
   },
   "outputs": [],
   "source": [
    "# remane the date column in gaurdian headlines dataset  to time\n",
    "d.rename(columns={'date': 'Time'},inplace=True)"
   ]
  },
  {
   "cell_type": "code",
   "execution_count": 112,
   "metadata": {
    "id": "7PmKhFHl4xs-"
   },
   "outputs": [],
   "source": [
    "# cancatenate the gaurdian headlines dataset and  copy of datasetto get all headlines together\n",
    "df = pd.concat([gr,d],axis=0)"
   ]
  },
  {
   "cell_type": "code",
   "execution_count": 113,
   "metadata": {
    "colab": {
     "base_uri": "https://localhost:8080/",
     "height": 202
    },
    "id": "2WSYMgUm4xps",
    "outputId": "ea2e0e9a-dfcb-410e-a3b5-ed4545fa93c4"
   },
   "outputs": [
    {
     "data": {
      "text/html": [
       "<div>\n",
       "<style scoped>\n",
       "    .dataframe tbody tr th:only-of-type {\n",
       "        vertical-align: middle;\n",
       "    }\n",
       "\n",
       "    .dataframe tbody tr th {\n",
       "        vertical-align: top;\n",
       "    }\n",
       "\n",
       "    .dataframe thead th {\n",
       "        text-align: right;\n",
       "    }\n",
       "</style>\n",
       "<table border=\"1\" class=\"dataframe\">\n",
       "  <thead>\n",
       "    <tr style=\"text-align: right;\">\n",
       "      <th></th>\n",
       "      <th>Time</th>\n",
       "      <th>Headlines</th>\n",
       "    </tr>\n",
       "  </thead>\n",
       "  <tbody>\n",
       "    <tr>\n",
       "      <th>0</th>\n",
       "      <td>18-Jul-20</td>\n",
       "      <td>Johnson is asking Santa for a Christmas recovery</td>\n",
       "    </tr>\n",
       "    <tr>\n",
       "      <th>1</th>\n",
       "      <td>18-Jul-20</td>\n",
       "      <td>‘I now fear the worst’: four grim tales of wor...</td>\n",
       "    </tr>\n",
       "    <tr>\n",
       "      <th>2</th>\n",
       "      <td>18-Jul-20</td>\n",
       "      <td>Five key areas Sunak must tackle to serve up e...</td>\n",
       "    </tr>\n",
       "    <tr>\n",
       "      <th>3</th>\n",
       "      <td>18-Jul-20</td>\n",
       "      <td>Covid-19 leaves firms ‘fatally ill-prepared’ f...</td>\n",
       "    </tr>\n",
       "    <tr>\n",
       "      <th>4</th>\n",
       "      <td>18-Jul-20</td>\n",
       "      <td>The Week in Patriarchy  \\n\\n\\n  Bacardi's 'lad...</td>\n",
       "    </tr>\n",
       "  </tbody>\n",
       "</table>\n",
       "</div>"
      ],
      "text/plain": [
       "        Time                                          Headlines\n",
       "0  18-Jul-20   Johnson is asking Santa for a Christmas recovery\n",
       "1  18-Jul-20  ‘I now fear the worst’: four grim tales of wor...\n",
       "2  18-Jul-20  Five key areas Sunak must tackle to serve up e...\n",
       "3  18-Jul-20  Covid-19 leaves firms ‘fatally ill-prepared’ f...\n",
       "4  18-Jul-20  The Week in Patriarchy  \\n\\n\\n  Bacardi's 'lad..."
      ]
     },
     "execution_count": 113,
     "metadata": {},
     "output_type": "execute_result"
    }
   ],
   "source": [
    "df.head()"
   ]
  },
  {
   "cell_type": "code",
   "execution_count": 114,
   "metadata": {
    "colab": {
     "base_uri": "https://localhost:8080/"
    },
    "id": "4b_DReQJ4xnw",
    "outputId": "4ba05177-4e07-45a8-8a32-b58c1173760d"
   },
   "outputs": [
    {
     "data": {
      "text/plain": [
       "(53258, 2)"
      ]
     },
     "execution_count": 114,
     "metadata": {},
     "output_type": "execute_result"
    }
   ],
   "source": [
    "# check the shape of all headlines dataset\n",
    "df.shape"
   ]
  },
  {
   "cell_type": "code",
   "execution_count": 116,
   "metadata": {
    "colab": {
     "base_uri": "https://localhost:8080/",
     "height": 202
    },
    "id": "Xn2AN-6MAgQE",
    "outputId": "59c8dcbb-e719-4579-f872-aa8768f4a2e1"
   },
   "outputs": [],
   "source": [
    "#apply preprocessin to the headlines column in the new dataset\n",
    "df['Headlines'] = df['Headlines'].apply(preprocessing)"
   ]
  },
  {
   "cell_type": "code",
   "execution_count": 117,
   "metadata": {
    "colab": {
     "base_uri": "https://localhost:8080/",
     "height": 414
    },
    "id": "EBdenfoGAgOL",
    "outputId": "b1730b84-9c09-4f26-fe59-171c490b958c"
   },
   "outputs": [],
   "source": [
    "# analyze polarity score of values in headlines and  add new column of it in dataset\n",
    "hi_score = []\n",
    "for value in df['Headlines'].values:\n",
    "    hi_score.append(analyzer.polarity_scores(value)['compound'])\n",
    "    \n",
    "df['hi_score'] = hi_score"
   ]
  },
  {
   "cell_type": "code",
   "execution_count": 118,
   "metadata": {
    "colab": {
     "base_uri": "https://localhost:8080/",
     "height": 414
    },
    "id": "OexQKGBxAgKb",
    "outputId": "63a014a7-f17c-43ed-ceee-45f68546f2c2"
   },
   "outputs": [],
   "source": [
    "# apply the function  which decides sentiment to  polarity score column\n",
    "df['hi_score'] = df['hi_score'].apply(score)"
   ]
  },
  {
   "cell_type": "code",
   "execution_count": 119,
   "metadata": {},
   "outputs": [
    {
     "data": {
      "text/html": [
       "<div>\n",
       "<style scoped>\n",
       "    .dataframe tbody tr th:only-of-type {\n",
       "        vertical-align: middle;\n",
       "    }\n",
       "\n",
       "    .dataframe tbody tr th {\n",
       "        vertical-align: top;\n",
       "    }\n",
       "\n",
       "    .dataframe thead th {\n",
       "        text-align: right;\n",
       "    }\n",
       "</style>\n",
       "<table border=\"1\" class=\"dataframe\">\n",
       "  <thead>\n",
       "    <tr style=\"text-align: right;\">\n",
       "      <th></th>\n",
       "      <th>Time</th>\n",
       "      <th>Headlines</th>\n",
       "      <th>hi_score</th>\n",
       "    </tr>\n",
       "  </thead>\n",
       "  <tbody>\n",
       "    <tr>\n",
       "      <th>0</th>\n",
       "      <td>18-Jul-20</td>\n",
       "      <td>johnson ask santa christma recoveri</td>\n",
       "      <td>neutral</td>\n",
       "    </tr>\n",
       "    <tr>\n",
       "      <th>1</th>\n",
       "      <td>18-Jul-20</td>\n",
       "      <td>fear worst four grim tale work life upend covid19</td>\n",
       "      <td>negative</td>\n",
       "    </tr>\n",
       "    <tr>\n",
       "      <th>2</th>\n",
       "      <td>18-Jul-20</td>\n",
       "      <td>five key area sunak must tackl serv econom rec...</td>\n",
       "      <td>neutral</td>\n",
       "    </tr>\n",
       "    <tr>\n",
       "      <th>3</th>\n",
       "      <td>18-Jul-20</td>\n",
       "      <td>covid19 leav firm fatal illprepar nodeal brexit</td>\n",
       "      <td>negative</td>\n",
       "    </tr>\n",
       "    <tr>\n",
       "      <th>4</th>\n",
       "      <td>18-Jul-20</td>\n",
       "      <td>week patriarchi bacardi ladi vodka latest long...</td>\n",
       "      <td>negative</td>\n",
       "    </tr>\n",
       "  </tbody>\n",
       "</table>\n",
       "</div>"
      ],
      "text/plain": [
       "        Time                                          Headlines  hi_score\n",
       "0  18-Jul-20                johnson ask santa christma recoveri   neutral\n",
       "1  18-Jul-20  fear worst four grim tale work life upend covid19  negative\n",
       "2  18-Jul-20  five key area sunak must tackl serv econom rec...   neutral\n",
       "3  18-Jul-20    covid19 leav firm fatal illprepar nodeal brexit  negative\n",
       "4  18-Jul-20  week patriarchi bacardi ladi vodka latest long...  negative"
      ]
     },
     "execution_count": 119,
     "metadata": {},
     "output_type": "execute_result"
    }
   ],
   "source": [
    "df.head()"
   ]
  },
  {
   "cell_type": "code",
   "execution_count": 122,
   "metadata": {
    "colab": {
     "base_uri": "https://localhost:8080/",
     "height": 300
    },
    "id": "NiIoQpS1AgIg",
    "outputId": "63d38ec2-8500-425a-f99b-3d6c60c88e08"
   },
   "outputs": [
    {
     "data": {
      "text/plain": [
       "<AxesSubplot:xlabel='hi_score', ylabel='count'>"
      ]
     },
     "execution_count": 122,
     "metadata": {},
     "output_type": "execute_result"
    },
    {
     "data": {
      "image/png": "[encoded data removed]",
      "text/plain": [
       "<Figure size 640x480 with 1 Axes>"
      ]
     },
     "metadata": {},
     "output_type": "display_data"
    }
   ],
   "source": [
    "#perform countplot on headline score column\n",
    "sns.countplot(x=df['hi_score'])"
   ]
  },
  {
   "cell_type": "markdown",
   "metadata": {
    "id": "LDnyTYgCzzOs"
   },
   "source": [
    "In the headlines\n",
    "\n",
    "there are approx\n",
    "\n",
    "14000 positive statment\n",
    "\n",
    "16000 negative statment\n",
    "\n",
    "24000 neutral statment"
   ]
  },
  {
   "cell_type": "code",
   "execution_count": 123,
   "metadata": {
    "colab": {
     "base_uri": "https://localhost:8080/",
     "height": 542
    },
    "id": "0do52B-enPVe",
    "outputId": "6b88ed3f-c5a5-4c5c-d56a-d3ab60d61043"
   },
   "outputs": [
    {
     "data": {
      "text/plain": [
       "([<matplotlib.patches.Wedge at 0x15e0cb8a7c0>,\n",
       "  <matplotlib.patches.Wedge at 0x15e0d2fc640>,\n",
       "  <matplotlib.patches.Wedge at 0x15e0d2fcd60>],\n",
       " [Text(0.17253293722606433, 1.0863850079838855, 'neutral'),\n",
       "  Text(-0.8859969876512348, -0.65192740230254, 'negative'),\n",
       "  Text(0.7828252898257008, -0.7727771772052457, 'positive')])"
      ]
     },
     "execution_count": 123,
     "metadata": {},
     "output_type": "execute_result"
    },
    {
     "data": {
      "image/png": "[encoded data removed]",
      "text/plain": [
       "<Figure size 640x480 with 1 Axes>"
      ]
     },
     "metadata": {},
     "output_type": "display_data"
    }
   ],
   "source": [
    "#perform pie digram on headline score column\n",
    "plt.pie(df['hi_score'].value_counts(),labels=['neutral','negative','positive'])"
   ]
  },
  {
   "cell_type": "markdown",
   "metadata": {
    "id": "8kckcYtg0DW6"
   },
   "source": [
    "In the dataset\n",
    "\n",
    "headlines contains\n",
    "\n",
    "24.8% positive statments\n",
    "\n",
    "30.3% negtive statements\n",
    "\n",
    "44.9% neutral statments"
   ]
  },
  {
   "cell_type": "markdown",
   "metadata": {
    "id": "xldbLpNQgfG-"
   },
   "source": [
    "# Modeling on headlines"
   ]
  },
  {
   "cell_type": "code",
   "execution_count": 124,
   "metadata": {
    "id": "T1v5tZHj4xk7"
   },
   "outputs": [],
   "source": [
    "# split the dataset  into test and train \n",
    "# 80% train , 20% test and random state 212\n",
    "x_train, x_test, y_train, y_test = train_test_split(df['Headlines'], df['hi_score'],test_size=0.2)"
   ]
  },
  {
   "cell_type": "markdown",
   "metadata": {
    "id": "x4bzS8ZiiZ5I"
   },
   "source": [
    "LINEAR SUPPORT VECTOR MACHINE"
   ]
  },
  {
   "cell_type": "code",
   "execution_count": 126,
   "metadata": {
    "colab": {
     "base_uri": "https://localhost:8080/"
    },
    "id": "ajb1LxXxhsKS",
    "outputId": "cb27a48f-370d-4172-8656-588fdaafd59c"
   },
   "outputs": [
    {
     "name": "stdout",
     "output_type": "stream",
     "text": [
      "0.9718362748779572\n",
      "[[3013   12   86]\n",
      " [  66 4871   39]\n",
      " [  85   12 2468]]\n",
      "              precision    recall  f1-score   support\n",
      "\n",
      "    negative       0.95      0.97      0.96      3111\n",
      "     neutral       1.00      0.98      0.99      4976\n",
      "     positve       0.95      0.96      0.96      2565\n",
      "\n",
      "    accuracy                           0.97     10652\n",
      "   macro avg       0.97      0.97      0.97     10652\n",
      "weighted avg       0.97      0.97      0.97     10652\n",
      "\n",
      "CPU times: total: 2.27 s\n",
      "Wall time: 2.43 s\n"
     ]
    }
   ],
   "source": [
    "%%time\n",
    "from sklearn.svm import LinearSVC\n",
    "pipe = Pipeline([('tf', TfidfVectorizer()),\n",
    "                ('model', LinearSVC())])\n",
    "\n",
    "\n",
    "# Fit the pipeline to the data\n",
    "pipe.fit(x_train, y_train)\n",
    "# predict on test dataset\n",
    "pred = pipe.predict(x_test)\n",
    "# print accuracy score\n",
    "print(accuracy_score(pred, y_test))\n",
    "#print confusion matrix\n",
    "print(confusion_matrix(pred, y_test))\n",
    "#print classification report\n",
    "print(classification_report(pred, y_test))\n"
   ]
  },
  {
   "cell_type": "code",
   "execution_count": 127,
   "metadata": {},
   "outputs": [],
   "source": [
    "def pipe(model):\n",
    "    pipeline = Pipeline(steps=[('cv', CountVectorizer()),\n",
    "                               ('tf', TfidfTransformer()),\n",
    "                          ('Lsvc', model)])\n",
    "    pipeline.fit(x_train,y_train)\n",
    "    pred = pipeline.predict(x_test)\n",
    "    \n",
    "    return metrix(pred, y_test)"
   ]
  },
  {
   "cell_type": "markdown",
   "metadata": {
    "id": "MSeXO8a1iePB"
   },
   "source": [
    "LOGISTIC REGRESSION"
   ]
  },
  {
   "cell_type": "code",
   "execution_count": 128,
   "metadata": {
    "colab": {
     "base_uri": "https://localhost:8080/"
    },
    "id": "nU4V-w3vhsHi",
    "outputId": "c0dd3cf0-96c0-457e-8621-1d83ef92d7c6"
   },
   "outputs": [
    {
     "name": "stderr",
     "output_type": "stream",
     "text": [
      "C:\\Users\\Roshan Salunke\\anaconda3\\lib\\site-packages\\sklearn\\linear_model\\_logistic.py:763: ConvergenceWarning: lbfgs failed to converge (status=1):\n",
      "STOP: TOTAL NO. of ITERATIONS REACHED LIMIT.\n",
      "\n",
      "Increase the number of iterations (max_iter) or scale the data as shown in:\n",
      "    https://scikit-learn.org/stable/modules/preprocessing.html\n",
      "Please also refer to the documentation for alternative solver options:\n",
      "    https://scikit-learn.org/stable/modules/linear_model.html#logistic-regression\n",
      "  n_iter_i = _check_optimize_result(\n"
     ]
    },
    {
     "name": "stdout",
     "output_type": "stream",
     "text": [
      "acc: 0.9352234322193015\n",
      "confusion: [[2813  241  110]\n",
      " [   9 4871   15]\n",
      " [ 108  207 2278]]\n",
      "classification:               precision    recall  f1-score   support\n",
      "\n",
      "    negative       0.96      0.89      0.92      3164\n",
      "     neutral       0.92      1.00      0.95      4895\n",
      "     positve       0.95      0.88      0.91      2593\n",
      "\n",
      "    accuracy                           0.94     10652\n",
      "   macro avg       0.94      0.92      0.93     10652\n",
      "weighted avg       0.94      0.94      0.93     10652\n",
      "\n",
      "CPU times: total: 16.5 s\n",
      "Wall time: 4.71 s\n"
     ]
    }
   ],
   "source": [
    "%%time\n",
    "pipe(LogisticRegression())\n"
   ]
  },
  {
   "cell_type": "markdown",
   "metadata": {
    "id": "uX2i2JIwiiAk"
   },
   "source": [
    "MULTINOMIAL NAIVE BAYES\n"
   ]
  },
  {
   "cell_type": "code",
   "execution_count": 129,
   "metadata": {
    "colab": {
     "base_uri": "https://localhost:8080/"
    },
    "id": "yaq-D8-qhsFH",
    "outputId": "bba6992b-7119-406e-bf64-357b8fec4466"
   },
   "outputs": [
    {
     "name": "stdout",
     "output_type": "stream",
     "text": [
      "acc: 0.8376830642132933\n",
      "confusion: [[2625  387  152]\n",
      " [ 158 4693   44]\n",
      " [ 408  580 1605]]\n",
      "classification:               precision    recall  f1-score   support\n",
      "\n",
      "    negative       0.82      0.83      0.83      3164\n",
      "     neutral       0.83      0.96      0.89      4895\n",
      "     positve       0.89      0.62      0.73      2593\n",
      "\n",
      "    accuracy                           0.84     10652\n",
      "   macro avg       0.85      0.80      0.82     10652\n",
      "weighted avg       0.84      0.84      0.83     10652\n",
      "\n",
      "CPU times: total: 1.17 s\n",
      "Wall time: 1.25 s\n"
     ]
    }
   ],
   "source": [
    "%%time\n",
    "pipe(MultinomialNB())\n"
   ]
  },
  {
   "cell_type": "markdown",
   "metadata": {
    "id": "67D7-TNXil6t"
   },
   "source": [
    "BERNOULLI NAIVE BAYES\n"
   ]
  },
  {
   "cell_type": "code",
   "execution_count": 130,
   "metadata": {
    "colab": {
     "base_uri": "https://localhost:8080/"
    },
    "id": "I-RnJCDxhsB6",
    "outputId": "cf6d532c-f119-4fa8-e8e9-ced33b3129e6"
   },
   "outputs": [
    {
     "name": "stdout",
     "output_type": "stream",
     "text": [
      "acc: 0.8799286518963575\n",
      "confusion: [[2784  113  267]\n",
      " [ 300 4439  156]\n",
      " [ 325  118 2150]]\n",
      "classification:               precision    recall  f1-score   support\n",
      "\n",
      "    negative       0.82      0.88      0.85      3164\n",
      "     neutral       0.95      0.91      0.93      4895\n",
      "     positve       0.84      0.83      0.83      2593\n",
      "\n",
      "    accuracy                           0.88     10652\n",
      "   macro avg       0.87      0.87      0.87     10652\n",
      "weighted avg       0.88      0.88      0.88     10652\n",
      "\n",
      "CPU times: total: 1.22 s\n",
      "Wall time: 1.29 s\n"
     ]
    }
   ],
   "source": [
    "%%time\n",
    "pipe(BernoulliNB())\n",
    "\n"
   ]
  },
  {
   "cell_type": "markdown",
   "metadata": {
    "id": "8GUtphU3i5fP"
   },
   "source": [
    "GRADIENT BOOSTING CLASSIFICATION MODEL\n"
   ]
  },
  {
   "cell_type": "code",
   "execution_count": 131,
   "metadata": {
    "colab": {
     "base_uri": "https://localhost:8080/"
    },
    "id": "KSfng2DphsAG",
    "outputId": "d3f96a64-515c-4996-cb98-8723ec613ad5"
   },
   "outputs": [
    {
     "name": "stdout",
     "output_type": "stream",
     "text": [
      "acc: 0.7904618850920015\n",
      "confusion: [[1960 1051  153]\n",
      " [   8 4877   10]\n",
      " [ 127  883 1583]]\n",
      "classification:               precision    recall  f1-score   support\n",
      "\n",
      "    negative       0.94      0.62      0.75      3164\n",
      "     neutral       0.72      1.00      0.83      4895\n",
      "     positve       0.91      0.61      0.73      2593\n",
      "\n",
      "    accuracy                           0.79     10652\n",
      "   macro avg       0.85      0.74      0.77     10652\n",
      "weighted avg       0.83      0.79      0.78     10652\n",
      "\n",
      "CPU times: total: 53.5 s\n",
      "Wall time: 54.2 s\n"
     ]
    }
   ],
   "source": [
    "%%time\n",
    "pipe(GradientBoostingClassifier())\n"
   ]
  },
  {
   "cell_type": "markdown",
   "metadata": {
    "id": "u_N_BrWyjABA"
   },
   "source": [
    "DECISION TREE CLASSIFICATION MODEL\n"
   ]
  },
  {
   "cell_type": "code",
   "execution_count": 132,
   "metadata": {
    "colab": {
     "base_uri": "https://localhost:8080/"
    },
    "id": "IvA6LRen4xeh",
    "outputId": "4e614ba8-83e6-4360-d87b-9d8b63ac3659"
   },
   "outputs": [
    {
     "name": "stdout",
     "output_type": "stream",
     "text": [
      "acc: 0.9509951182876455\n",
      "confusion: [[2926   41  197]\n",
      " [  14 4869   12]\n",
      " [ 241   17 2335]]\n",
      "classification:               precision    recall  f1-score   support\n",
      "\n",
      "    negative       0.92      0.92      0.92      3164\n",
      "     neutral       0.99      0.99      0.99      4895\n",
      "     positve       0.92      0.90      0.91      2593\n",
      "\n",
      "    accuracy                           0.95     10652\n",
      "   macro avg       0.94      0.94      0.94     10652\n",
      "weighted avg       0.95      0.95      0.95     10652\n",
      "\n",
      "CPU times: total: 21.7 s\n",
      "Wall time: 22 s\n"
     ]
    }
   ],
   "source": [
    "%%time\n",
    "pipe(DecisionTreeClassifier())\n"
   ]
  },
  {
   "cell_type": "markdown",
   "metadata": {
    "id": "ez0xd3SmjDAU"
   },
   "source": [
    "K- NEAREST NEIGHBOUR CLASSIFIER MODEL\n"
   ]
  },
  {
   "cell_type": "code",
   "execution_count": 133,
   "metadata": {
    "colab": {
     "base_uri": "https://localhost:8080/"
    },
    "id": "G7Y6zavB4xcc",
    "outputId": "f2bee906-2302-4905-8554-2e9f13b98f85"
   },
   "outputs": [
    {
     "name": "stdout",
     "output_type": "stream",
     "text": [
      "acc: 0.600638377769433\n",
      "confusion: [[1884 1020  260]\n",
      " [1060 3508  327]\n",
      " [ 551 1036 1006]]\n",
      "classification:               precision    recall  f1-score   support\n",
      "\n",
      "    negative       0.54      0.60      0.57      3164\n",
      "     neutral       0.63      0.72      0.67      4895\n",
      "     positve       0.63      0.39      0.48      2593\n",
      "\n",
      "    accuracy                           0.60     10652\n",
      "   macro avg       0.60      0.57      0.57     10652\n",
      "weighted avg       0.60      0.60      0.59     10652\n",
      "\n",
      "CPU times: total: 15.4 s\n",
      "Wall time: 16.2 s\n"
     ]
    }
   ],
   "source": [
    "%%time\n",
    "pipe(KNeighborsClassifier())\n",
    "\n"
   ]
  },
  {
   "cell_type": "markdown",
   "metadata": {
    "id": "gsQKs2r_lSaz"
   },
   "source": [
    "# now working with test data"
   ]
  },
  {
   "cell_type": "code",
   "execution_count": 135,
   "metadata": {
    "colab": {
     "base_uri": "https://localhost:8080/"
    },
    "id": "VSSPcY-VjFyc",
    "outputId": "5a164a05-ba61-41b0-dd45-c049948dc9be"
   },
   "outputs": [
    {
     "name": "stdout",
     "output_type": "stream",
     "text": [
      "0.9718362748779572\n",
      "[[3013   12   86]\n",
      " [  66 4871   39]\n",
      " [  85   12 2468]]\n",
      "              precision    recall  f1-score   support\n",
      "\n",
      "    negative       0.95      0.97      0.96      3111\n",
      "     neutral       1.00      0.98      0.99      4976\n",
      "     positve       0.95      0.96      0.96      2565\n",
      "\n",
      "    accuracy                           0.97     10652\n",
      "   macro avg       0.97      0.97      0.97     10652\n",
      "weighted avg       0.97      0.97      0.97     10652\n",
      "\n"
     ]
    }
   ],
   "source": [
    "# Perforn the prediction on the test dataset\n",
    "from sklearn.svm import LinearSVC\n",
    "pipe = Pipeline([('tf', TfidfVectorizer()),\n",
    "                ('model', LinearSVC())])\n",
    "\n",
    "\n",
    "# Fit the pipeline to the data\n",
    "pipe.fit(x_train, y_train)\n",
    "# predict on test dataset\n",
    "pred = pipe.predict(x_test)\n",
    "# print accuracy score\n",
    "print(accuracy_score(pred, y_test))\n",
    "#print confusion matrix\n",
    "print(confusion_matrix(pred, y_test))\n",
    "#print classification report\n",
    "print(classification_report(pred, y_test))"
   ]
  },
  {
   "cell_type": "code",
   "execution_count": 136,
   "metadata": {
    "id": "HZH2_2KZjFwO"
   },
   "outputs": [],
   "source": [
    "# creating a dataframe of predicted results \n",
    "pred = pd.DataFrame(pred)"
   ]
  },
  {
   "cell_type": "code",
   "execution_count": 137,
   "metadata": {
    "colab": {
     "base_uri": "https://localhost:8080/",
     "height": 202
    },
    "id": "kw5ac2WWjFta",
    "outputId": "38dd551d-78a3-4b96-9324-aaa6776ef4a2"
   },
   "outputs": [
    {
     "data": {
      "text/html": [
       "<div>\n",
       "<style scoped>\n",
       "    .dataframe tbody tr th:only-of-type {\n",
       "        vertical-align: middle;\n",
       "    }\n",
       "\n",
       "    .dataframe tbody tr th {\n",
       "        vertical-align: top;\n",
       "    }\n",
       "\n",
       "    .dataframe thead th {\n",
       "        text-align: right;\n",
       "    }\n",
       "</style>\n",
       "<table border=\"1\" class=\"dataframe\">\n",
       "  <thead>\n",
       "    <tr style=\"text-align: right;\">\n",
       "      <th></th>\n",
       "      <th>0</th>\n",
       "    </tr>\n",
       "  </thead>\n",
       "  <tbody>\n",
       "    <tr>\n",
       "      <th>0</th>\n",
       "      <td>neutral</td>\n",
       "    </tr>\n",
       "    <tr>\n",
       "      <th>1</th>\n",
       "      <td>positve</td>\n",
       "    </tr>\n",
       "    <tr>\n",
       "      <th>2</th>\n",
       "      <td>negative</td>\n",
       "    </tr>\n",
       "    <tr>\n",
       "      <th>3</th>\n",
       "      <td>negative</td>\n",
       "    </tr>\n",
       "    <tr>\n",
       "      <th>4</th>\n",
       "      <td>negative</td>\n",
       "    </tr>\n",
       "    <tr>\n",
       "      <th>...</th>\n",
       "      <td>...</td>\n",
       "    </tr>\n",
       "    <tr>\n",
       "      <th>10647</th>\n",
       "      <td>positve</td>\n",
       "    </tr>\n",
       "    <tr>\n",
       "      <th>10648</th>\n",
       "      <td>negative</td>\n",
       "    </tr>\n",
       "    <tr>\n",
       "      <th>10649</th>\n",
       "      <td>positve</td>\n",
       "    </tr>\n",
       "    <tr>\n",
       "      <th>10650</th>\n",
       "      <td>neutral</td>\n",
       "    </tr>\n",
       "    <tr>\n",
       "      <th>10651</th>\n",
       "      <td>neutral</td>\n",
       "    </tr>\n",
       "  </tbody>\n",
       "</table>\n",
       "<p>10652 rows × 1 columns</p>\n",
       "</div>"
      ],
      "text/plain": [
       "              0\n",
       "0       neutral\n",
       "1       positve\n",
       "2      negative\n",
       "3      negative\n",
       "4      negative\n",
       "...         ...\n",
       "10647   positve\n",
       "10648  negative\n",
       "10649   positve\n",
       "10650   neutral\n",
       "10651   neutral\n",
       "\n",
       "[10652 rows x 1 columns]"
      ]
     },
     "execution_count": 137,
     "metadata": {},
     "output_type": "execute_result"
    }
   ],
   "source": [
    "pred"
   ]
  },
  {
   "cell_type": "markdown",
   "metadata": {
    "id": "6ffMQY_00ufo"
   },
   "source": [
    "# Prediction"
   ]
  },
  {
   "cell_type": "markdown",
   "metadata": {
    "id": "BrQATukn0x2u"
   },
   "source": [
    "you can check the result on real time news headlines\n",
    "\n",
    "Here i have used two fiancial news headlines\n",
    "\n",
    "and predicted its sentiment\n",
    "\n",
    "You can try more "
   ]
  },
  {
   "cell_type": "code",
   "execution_count": 138,
   "metadata": {
    "colab": {
     "base_uri": "https://localhost:8080/"
    },
    "id": "uRUtaAhZ0wwU",
    "outputId": "946e8f9c-6fdc-4d7f-b2a4-72ed559a470c"
   },
   "outputs": [
    {
     "data": {
      "text/plain": [
       "array(['negative'], dtype=object)"
      ]
     },
     "execution_count": 138,
     "metadata": {},
     "output_type": "execute_result"
    }
   ],
   "source": [
    "sent1 = ['GST officers detect Rs 4,000 crore of ITC fraud in April-June']\n",
    "y_predict = pipe.predict(sent1)\n",
    "y_predict"
   ]
  },
  {
   "cell_type": "code",
   "execution_count": 139,
   "metadata": {
    "colab": {
     "base_uri": "https://localhost:8080/"
    },
    "id": "_YJqDGt71DGn",
    "outputId": "8265f9b2-4c84-4ada-876e-4b2f3eb1989a"
   },
   "outputs": [
    {
     "data": {
      "text/plain": [
       "array(['positve'], dtype=object)"
      ]
     },
     "execution_count": 139,
     "metadata": {},
     "output_type": "execute_result"
    }
   ],
   "source": [
    "sent2 = [\"Finance Ministry releases Rs 9,871 crore to 17 states as grant\"]\n",
    "y_predict = pipe.predict(sent2)\n",
    "y_predict"
   ]
  },
  {
   "cell_type": "markdown",
   "metadata": {
    "id": "No7lHSthFvmj"
   },
   "source": [
    "# Conclusion"
   ]
  },
  {
   "cell_type": "markdown",
   "metadata": {
    "id": "4FRWlgXRFywD"
   },
   "source": [
    "We learn about NLTK, sentiment analysis in this assigment.\n",
    "\n",
    "we conclude that using nltk it is easy to classify financial news and more we improve the traning data more we can get accurate\n"
   ]
  }
 ],
 "metadata": {
  "colab": {
   "collapsed_sections": [],
   "name": "financial_news_without_code.ipynb",
   "provenance": []
  },
  "kernelspec": {
   "display_name": "Python 3 (ipykernel)",
   "language": "python",
   "name": "python3"
  },
  "language_info": {
   "codemirror_mode": {
    "name": "ipython",
    "version": 3
   },
   "file_extension": ".py",
   "mimetype": "text/x-python",
   "name": "python",
   "nbconvert_exporter": "python",
   "pygments_lexer": "ipython3",
   "version": "3.9.7"
  }
 },
 "nbformat": 4,
 "nbformat_minor": 1
}
