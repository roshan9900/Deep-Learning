{
 "cells": [
  {
   "cell_type": "code",
   "execution_count": 1,
   "id": "beca4785",
   "metadata": {},
   "outputs": [],
   "source": [
    "import pandas as pd\n",
    "import numpy as np\n",
    "import matplotlib.pyplot as plt\n",
    "from datetime import datetime\n",
    "import tensorflow as tf\n",
    "from tensorflow.keras.layers import Dense\n",
    "from tensorflow.keras.layers import Dropout\n",
    "from tensorflow.keras.models import Sequential\n"
   ]
  },
  {
   "cell_type": "code",
   "execution_count": 2,
   "id": "598a7852",
   "metadata": {},
   "outputs": [],
   "source": [
    "def get_stock_data():\n",
    "  url = r\"C:\\Users\\Roshan Salunke\\Downloads\\RELIANCE.NS (2).csv\"\n",
    "  col_names = ['Date', 'Open', 'High','Low', 'Close', 'Volume', 'Adj Close']\n",
    "\n",
    "  df = pd.read_csv(url, header=0, names=col_names)\n",
    "\n",
    "  df = pd.DataFrame(df)\n",
    "\n",
    "  date_split = df['Date'].str.split('-').str\n",
    "\n",
    "  df['Year'], df['Month'], df['Day'] = date_split\n",
    "\n",
    "  df['Volume'] = df['Volume']/1000\n",
    "\n",
    "  return df"
   ]
  },
  {
   "cell_type": "code",
   "execution_count": 3,
   "id": "c0744d3c",
   "metadata": {},
   "outputs": [
    {
     "name": "stderr",
     "output_type": "stream",
     "text": [
      "C:\\Users\\Roshan Salunke\\AppData\\Local\\Temp\\ipykernel_2684\\3680966089.py:11: FutureWarning: Columnar iteration over characters will be deprecated in future releases.\n",
      "  df['Year'], df['Month'], df['Day'] = date_split\n"
     ]
    }
   ],
   "source": [
    "df = get_stock_data()"
   ]
  },
  {
   "cell_type": "code",
   "execution_count": 4,
   "id": "c7fe0963",
   "metadata": {},
   "outputs": [
    {
     "data": {
      "text/html": [
       "<div>\n",
       "<style scoped>\n",
       "    .dataframe tbody tr th:only-of-type {\n",
       "        vertical-align: middle;\n",
       "    }\n",
       "\n",
       "    .dataframe tbody tr th {\n",
       "        vertical-align: top;\n",
       "    }\n",
       "\n",
       "    .dataframe thead th {\n",
       "        text-align: right;\n",
       "    }\n",
       "</style>\n",
       "<table border=\"1\" class=\"dataframe\">\n",
       "  <thead>\n",
       "    <tr style=\"text-align: right;\">\n",
       "      <th></th>\n",
       "      <th>Date</th>\n",
       "      <th>Open</th>\n",
       "      <th>High</th>\n",
       "      <th>Low</th>\n",
       "      <th>Close</th>\n",
       "      <th>Volume</th>\n",
       "      <th>Adj Close</th>\n",
       "      <th>Year</th>\n",
       "      <th>Month</th>\n",
       "      <th>Day</th>\n",
       "    </tr>\n",
       "  </thead>\n",
       "  <tbody>\n",
       "    <tr>\n",
       "      <th>0</th>\n",
       "      <td>2008-01-01</td>\n",
       "      <td>715.715759</td>\n",
       "      <td>816.757935</td>\n",
       "      <td>525.023315</td>\n",
       "      <td>613.905762</td>\n",
       "      <td>0.550408</td>\n",
       "      <td>402391654</td>\n",
       "      <td>2008</td>\n",
       "      <td>01</td>\n",
       "      <td>01</td>\n",
       "    </tr>\n",
       "    <tr>\n",
       "      <th>1</th>\n",
       "      <td>2008-02-01</td>\n",
       "      <td>616.654724</td>\n",
       "      <td>654.297913</td>\n",
       "      <td>553.503357</td>\n",
       "      <td>610.079529</td>\n",
       "      <td>0.546977</td>\n",
       "      <td>221082696</td>\n",
       "      <td>2008</td>\n",
       "      <td>02</td>\n",
       "      <td>01</td>\n",
       "    </tr>\n",
       "    <tr>\n",
       "      <th>2</th>\n",
       "      <td>2008-03-01</td>\n",
       "      <td>594.316467</td>\n",
       "      <td>601.399353</td>\n",
       "      <td>525.023315</td>\n",
       "      <td>561.131042</td>\n",
       "      <td>0.503092</td>\n",
       "      <td>260177041</td>\n",
       "      <td>2008</td>\n",
       "      <td>03</td>\n",
       "      <td>01</td>\n",
       "    </tr>\n",
       "    <tr>\n",
       "      <th>3</th>\n",
       "      <td>2008-04-01</td>\n",
       "      <td>569.353088</td>\n",
       "      <td>673.119507</td>\n",
       "      <td>555.608398</td>\n",
       "      <td>647.487488</td>\n",
       "      <td>0.580516</td>\n",
       "      <td>239691023</td>\n",
       "      <td>2008</td>\n",
       "      <td>04</td>\n",
       "      <td>01</td>\n",
       "    </tr>\n",
       "    <tr>\n",
       "      <th>4</th>\n",
       "      <td>2008-05-01</td>\n",
       "      <td>647.487488</td>\n",
       "      <td>749.396484</td>\n",
       "      <td>591.951416</td>\n",
       "      <td>595.232788</td>\n",
       "      <td>0.533666</td>\n",
       "      <td>202767888</td>\n",
       "      <td>2008</td>\n",
       "      <td>05</td>\n",
       "      <td>01</td>\n",
       "    </tr>\n",
       "  </tbody>\n",
       "</table>\n",
       "</div>"
      ],
      "text/plain": [
       "         Date        Open        High         Low       Close    Volume  \\\n",
       "0  2008-01-01  715.715759  816.757935  525.023315  613.905762  0.550408   \n",
       "1  2008-02-01  616.654724  654.297913  553.503357  610.079529  0.546977   \n",
       "2  2008-03-01  594.316467  601.399353  525.023315  561.131042  0.503092   \n",
       "3  2008-04-01  569.353088  673.119507  555.608398  647.487488  0.580516   \n",
       "4  2008-05-01  647.487488  749.396484  591.951416  595.232788  0.533666   \n",
       "\n",
       "   Adj Close  Year Month Day  \n",
       "0  402391654  2008    01  01  \n",
       "1  221082696  2008    02  01  \n",
       "2  260177041  2008    03  01  \n",
       "3  239691023  2008    04  01  \n",
       "4  202767888  2008    05  01  "
      ]
     },
     "execution_count": 4,
     "metadata": {},
     "output_type": "execute_result"
    }
   ],
   "source": [
    "df.head()"
   ]
  },
  {
   "cell_type": "code",
   "execution_count": 5,
   "id": "d7ff6906",
   "metadata": {},
   "outputs": [
    {
     "data": {
      "text/html": [
       "<div>\n",
       "<style scoped>\n",
       "    .dataframe tbody tr th:only-of-type {\n",
       "        vertical-align: middle;\n",
       "    }\n",
       "\n",
       "    .dataframe tbody tr th {\n",
       "        vertical-align: top;\n",
       "    }\n",
       "\n",
       "    .dataframe thead th {\n",
       "        text-align: right;\n",
       "    }\n",
       "</style>\n",
       "<table border=\"1\" class=\"dataframe\">\n",
       "  <thead>\n",
       "    <tr style=\"text-align: right;\">\n",
       "      <th></th>\n",
       "      <th>Open</th>\n",
       "      <th>High</th>\n",
       "      <th>Close</th>\n",
       "      <th>Volume</th>\n",
       "    </tr>\n",
       "  </thead>\n",
       "  <tbody>\n",
       "    <tr>\n",
       "      <th>0</th>\n",
       "      <td>715.715759</td>\n",
       "      <td>816.757935</td>\n",
       "      <td>613.905762</td>\n",
       "      <td>0.550408</td>\n",
       "    </tr>\n",
       "    <tr>\n",
       "      <th>1</th>\n",
       "      <td>616.654724</td>\n",
       "      <td>654.297913</td>\n",
       "      <td>610.079529</td>\n",
       "      <td>0.546977</td>\n",
       "    </tr>\n",
       "    <tr>\n",
       "      <th>2</th>\n",
       "      <td>594.316467</td>\n",
       "      <td>601.399353</td>\n",
       "      <td>561.131042</td>\n",
       "      <td>0.503092</td>\n",
       "    </tr>\n",
       "    <tr>\n",
       "      <th>3</th>\n",
       "      <td>569.353088</td>\n",
       "      <td>673.119507</td>\n",
       "      <td>647.487488</td>\n",
       "      <td>0.580516</td>\n",
       "    </tr>\n",
       "    <tr>\n",
       "      <th>4</th>\n",
       "      <td>647.487488</td>\n",
       "      <td>749.396484</td>\n",
       "      <td>595.232788</td>\n",
       "      <td>0.533666</td>\n",
       "    </tr>\n",
       "  </tbody>\n",
       "</table>\n",
       "</div>"
      ],
      "text/plain": [
       "         Open        High       Close    Volume\n",
       "0  715.715759  816.757935  613.905762  0.550408\n",
       "1  616.654724  654.297913  610.079529  0.546977\n",
       "2  594.316467  601.399353  561.131042  0.503092\n",
       "3  569.353088  673.119507  647.487488  0.580516\n",
       "4  647.487488  749.396484  595.232788  0.533666"
      ]
     },
     "execution_count": 5,
     "metadata": {},
     "output_type": "execute_result"
    }
   ],
   "source": [
    "df = df.drop(['Date', 'Low', 'Adj Close', 'Year', 'Month', 'Day'], axis=1)\n",
    "df.head()"
   ]
  },
  {
   "cell_type": "code",
   "execution_count": 6,
   "id": "66fbd6e1",
   "metadata": {},
   "outputs": [],
   "source": [
    "df['Open'] = df['Open']/100\n",
    "df['High'] = df['High']/100\n",
    "df['Close'] = df['Close']/100\n",
    "df['Volume'] = df['Volume']*10"
   ]
  },
  {
   "cell_type": "code",
   "execution_count": 7,
   "id": "c0bb921f",
   "metadata": {},
   "outputs": [
    {
     "data": {
      "text/html": [
       "<div>\n",
       "<style scoped>\n",
       "    .dataframe tbody tr th:only-of-type {\n",
       "        vertical-align: middle;\n",
       "    }\n",
       "\n",
       "    .dataframe tbody tr th {\n",
       "        vertical-align: top;\n",
       "    }\n",
       "\n",
       "    .dataframe thead th {\n",
       "        text-align: right;\n",
       "    }\n",
       "</style>\n",
       "<table border=\"1\" class=\"dataframe\">\n",
       "  <thead>\n",
       "    <tr style=\"text-align: right;\">\n",
       "      <th></th>\n",
       "      <th>Open</th>\n",
       "      <th>High</th>\n",
       "      <th>Close</th>\n",
       "      <th>Volume</th>\n",
       "    </tr>\n",
       "  </thead>\n",
       "  <tbody>\n",
       "    <tr>\n",
       "      <th>0</th>\n",
       "      <td>7.157158</td>\n",
       "      <td>8.167579</td>\n",
       "      <td>6.139058</td>\n",
       "      <td>5.504079</td>\n",
       "    </tr>\n",
       "    <tr>\n",
       "      <th>1</th>\n",
       "      <td>6.166547</td>\n",
       "      <td>6.542979</td>\n",
       "      <td>6.100795</td>\n",
       "      <td>5.469774</td>\n",
       "    </tr>\n",
       "    <tr>\n",
       "      <th>2</th>\n",
       "      <td>5.943165</td>\n",
       "      <td>6.013994</td>\n",
       "      <td>5.611310</td>\n",
       "      <td>5.030916</td>\n",
       "    </tr>\n",
       "    <tr>\n",
       "      <th>3</th>\n",
       "      <td>5.693531</td>\n",
       "      <td>6.731195</td>\n",
       "      <td>6.474875</td>\n",
       "      <td>5.805161</td>\n",
       "    </tr>\n",
       "    <tr>\n",
       "      <th>4</th>\n",
       "      <td>6.474875</td>\n",
       "      <td>7.493965</td>\n",
       "      <td>5.952328</td>\n",
       "      <td>5.336663</td>\n",
       "    </tr>\n",
       "  </tbody>\n",
       "</table>\n",
       "</div>"
      ],
      "text/plain": [
       "       Open      High     Close    Volume\n",
       "0  7.157158  8.167579  6.139058  5.504079\n",
       "1  6.166547  6.542979  6.100795  5.469774\n",
       "2  5.943165  6.013994  5.611310  5.030916\n",
       "3  5.693531  6.731195  6.474875  5.805161\n",
       "4  6.474875  7.493965  5.952328  5.336663"
      ]
     },
     "execution_count": 7,
     "metadata": {},
     "output_type": "execute_result"
    }
   ],
   "source": [
    "df.head()"
   ]
  },
  {
   "cell_type": "code",
   "execution_count": 8,
   "id": "2c451514",
   "metadata": {},
   "outputs": [
    {
     "data": {
      "text/plain": [
       "Open      0\n",
       "High      0\n",
       "Close     0\n",
       "Volume    0\n",
       "dtype: int64"
      ]
     },
     "execution_count": 8,
     "metadata": {},
     "output_type": "execute_result"
    }
   ],
   "source": [
    "df.isnull().sum()"
   ]
  },
  {
   "cell_type": "code",
   "execution_count": 9,
   "id": "eb86d32d",
   "metadata": {},
   "outputs": [],
   "source": [
    "nan_value_index = []\n",
    "\n",
    "high = df.High.isnull()\n",
    "for i in range(0, len(high)):\n",
    "    if high[i] == 1:\n",
    "        nan_value_index.append(1)\n",
    "        df['High'][i] = 0\n",
    "        \n",
    "        \n",
    "open = df.Open.isnull()\n",
    "for i in range(0, len(open)):\n",
    "    if open[i] ==1:\n",
    "        nan_value_index.append(1)\n",
    "        df['Open'][i] = 0\n",
    "\n",
    "close = df.Close.isnull()\n",
    "for i in range(0, len(close)):\n",
    "    if close[i] == 1:\n",
    "        nan_value_index.append(1)\n",
    "        df['Close'][i] = 0\n",
    "        \n",
    "volume = df.Volume.isnull()\n",
    "for i in range(0, len(volume)):\n",
    "    if volume[i] ==1:\n",
    "        nan_value_index.append(1)\n",
    "        df['Volume'][i] = 0"
   ]
  },
  {
   "cell_type": "code",
   "execution_count": 10,
   "id": "8c3074ac",
   "metadata": {},
   "outputs": [
    {
     "data": {
      "text/html": [
       "<div>\n",
       "<style scoped>\n",
       "    .dataframe tbody tr th:only-of-type {\n",
       "        vertical-align: middle;\n",
       "    }\n",
       "\n",
       "    .dataframe tbody tr th {\n",
       "        vertical-align: top;\n",
       "    }\n",
       "\n",
       "    .dataframe thead th {\n",
       "        text-align: right;\n",
       "    }\n",
       "</style>\n",
       "<table border=\"1\" class=\"dataframe\">\n",
       "  <thead>\n",
       "    <tr style=\"text-align: right;\">\n",
       "      <th></th>\n",
       "      <th>Open</th>\n",
       "      <th>High</th>\n",
       "      <th>Close</th>\n",
       "      <th>Volume</th>\n",
       "    </tr>\n",
       "  </thead>\n",
       "  <tbody>\n",
       "    <tr>\n",
       "      <th>0</th>\n",
       "      <td>7.157158</td>\n",
       "      <td>8.167579</td>\n",
       "      <td>6.139058</td>\n",
       "      <td>5.504079</td>\n",
       "    </tr>\n",
       "    <tr>\n",
       "      <th>1</th>\n",
       "      <td>6.166547</td>\n",
       "      <td>6.542979</td>\n",
       "      <td>6.100795</td>\n",
       "      <td>5.469774</td>\n",
       "    </tr>\n",
       "    <tr>\n",
       "      <th>2</th>\n",
       "      <td>5.943165</td>\n",
       "      <td>6.013994</td>\n",
       "      <td>5.611310</td>\n",
       "      <td>5.030916</td>\n",
       "    </tr>\n",
       "    <tr>\n",
       "      <th>3</th>\n",
       "      <td>5.693531</td>\n",
       "      <td>6.731195</td>\n",
       "      <td>6.474875</td>\n",
       "      <td>5.805161</td>\n",
       "    </tr>\n",
       "    <tr>\n",
       "      <th>4</th>\n",
       "      <td>6.474875</td>\n",
       "      <td>7.493965</td>\n",
       "      <td>5.952328</td>\n",
       "      <td>5.336663</td>\n",
       "    </tr>\n",
       "  </tbody>\n",
       "</table>\n",
       "</div>"
      ],
      "text/plain": [
       "       Open      High     Close    Volume\n",
       "0  7.157158  8.167579  6.139058  5.504079\n",
       "1  6.166547  6.542979  6.100795  5.469774\n",
       "2  5.943165  6.013994  5.611310  5.030916\n",
       "3  5.693531  6.731195  6.474875  5.805161\n",
       "4  6.474875  7.493965  5.952328  5.336663"
      ]
     },
     "execution_count": 10,
     "metadata": {},
     "output_type": "execute_result"
    }
   ],
   "source": [
    "df.head()"
   ]
  },
  {
   "cell_type": "code",
   "execution_count": 11,
   "id": "eeef1e75",
   "metadata": {},
   "outputs": [
    {
     "data": {
      "text/plain": [
       "Open      0\n",
       "High      0\n",
       "Close     0\n",
       "Volume    0\n",
       "dtype: int64"
      ]
     },
     "execution_count": 11,
     "metadata": {},
     "output_type": "execute_result"
    }
   ],
   "source": [
    "df.isnull().sum()"
   ]
  },
  {
   "cell_type": "code",
   "execution_count": 12,
   "id": "1d442f34",
   "metadata": {},
   "outputs": [
    {
     "data": {
      "text/plain": [
       "[]"
      ]
     },
     "execution_count": 12,
     "metadata": {},
     "output_type": "execute_result"
    }
   ],
   "source": [
    "nan_value_index"
   ]
  },
  {
   "cell_type": "code",
   "execution_count": 13,
   "id": "f938fb65",
   "metadata": {},
   "outputs": [],
   "source": [
    "x = df[['High', 'Open', 'Volume']]\n",
    "\n",
    "y = df[['Close']]\n",
    "\n",
    "factor = 0.8\n",
    "\n",
    "length = len(x)\n",
    "\n",
    "total_for_train = int(length*factor)\n",
    "\n",
    "x_train = x[:total_for_train]\n",
    "y_train = y[:total_for_train]\n",
    "x_test = x[total_for_train:]\n",
    "y_test = y[total_for_train:]"
   ]
  },
  {
   "cell_type": "code",
   "execution_count": 14,
   "id": "0201f488",
   "metadata": {},
   "outputs": [
    {
     "name": "stdout",
     "output_type": "stream",
     "text": [
      "(37, 3)\n",
      "(146, 3)\n",
      "(37, 1)\n",
      "(146, 1)\n"
     ]
    }
   ],
   "source": [
    "print(x_test.shape)\n",
    "print(x_train.shape)\n",
    "print(y_test.shape)\n",
    "print(y_train.shape)"
   ]
  },
  {
   "cell_type": "code",
   "execution_count": 15,
   "id": "03b2c3f4",
   "metadata": {},
   "outputs": [
    {
     "data": {
      "text/html": [
       "<div>\n",
       "<style scoped>\n",
       "    .dataframe tbody tr th:only-of-type {\n",
       "        vertical-align: middle;\n",
       "    }\n",
       "\n",
       "    .dataframe tbody tr th {\n",
       "        vertical-align: top;\n",
       "    }\n",
       "\n",
       "    .dataframe thead th {\n",
       "        text-align: right;\n",
       "    }\n",
       "</style>\n",
       "<table border=\"1\" class=\"dataframe\">\n",
       "  <thead>\n",
       "    <tr style=\"text-align: right;\">\n",
       "      <th></th>\n",
       "      <th>High</th>\n",
       "      <th>Open</th>\n",
       "      <th>Volume</th>\n",
       "    </tr>\n",
       "  </thead>\n",
       "  <tbody>\n",
       "    <tr>\n",
       "      <th>146</th>\n",
       "      <td>13.561451</td>\n",
       "      <td>13.423756</td>\n",
       "      <td>10.923513</td>\n",
       "    </tr>\n",
       "    <tr>\n",
       "      <th>147</th>\n",
       "      <td>14.809125</td>\n",
       "      <td>11.117120</td>\n",
       "      <td>14.378335</td>\n",
       "    </tr>\n",
       "    <tr>\n",
       "      <th>148</th>\n",
       "      <td>15.998352</td>\n",
       "      <td>14.522343</td>\n",
       "      <td>14.498785</td>\n",
       "    </tr>\n",
       "    <tr>\n",
       "      <th>149</th>\n",
       "      <td>18.042000</td>\n",
       "      <td>14.800000</td>\n",
       "      <td>16.872017</td>\n",
       "    </tr>\n",
       "    <tr>\n",
       "      <th>150</th>\n",
       "      <td>21.988000</td>\n",
       "      <td>17.200000</td>\n",
       "      <td>20.466021</td>\n",
       "    </tr>\n",
       "  </tbody>\n",
       "</table>\n",
       "</div>"
      ],
      "text/plain": [
       "          High       Open     Volume\n",
       "146  13.561451  13.423756  10.923513\n",
       "147  14.809125  11.117120  14.378335\n",
       "148  15.998352  14.522343  14.498785\n",
       "149  18.042000  14.800000  16.872017\n",
       "150  21.988000  17.200000  20.466021"
      ]
     },
     "execution_count": 15,
     "metadata": {},
     "output_type": "execute_result"
    }
   ],
   "source": [
    "x_test.head()"
   ]
  },
  {
   "cell_type": "code",
   "execution_count": 16,
   "id": "69a5aff8",
   "metadata": {},
   "outputs": [],
   "source": [
    "model = Sequential()\n",
    "\n",
    "model.add(Dense(units=32, kernel_initializer='uniform', activation='relu', input_dim=3))\n",
    "\n",
    "model.add(Dense(units=10, kernel_initializer='uniform', activation='relu'))\n",
    "\n",
    "model.add(Dense(units=1, kernel_initializer='uniform', activation='linear'))"
   ]
  },
  {
   "cell_type": "code",
   "execution_count": 17,
   "id": "adbd228c",
   "metadata": {},
   "outputs": [],
   "source": [
    "model.compile(optimizer='adam', loss='mean_squared_error', metrics=[])"
   ]
  },
  {
   "cell_type": "code",
   "execution_count": 18,
   "id": "9dd729c6",
   "metadata": {},
   "outputs": [
    {
     "name": "stdout",
     "output_type": "stream",
     "text": [
      "Epoch 1/10\n",
      "2/2 [==============================] - 1s 206ms/step - loss: 38.8564 - val_loss: 187.3474\n",
      "Epoch 2/10\n",
      "2/2 [==============================] - 0s 30ms/step - loss: 38.7911 - val_loss: 187.1238\n",
      "Epoch 3/10\n",
      "2/2 [==============================] - 0s 34ms/step - loss: 38.7340 - val_loss: 186.8803\n",
      "Epoch 4/10\n",
      "2/2 [==============================] - 0s 32ms/step - loss: 38.6705 - val_loss: 186.6030\n",
      "Epoch 5/10\n",
      "2/2 [==============================] - 0s 35ms/step - loss: 38.5991 - val_loss: 186.2794\n",
      "Epoch 6/10\n",
      "2/2 [==============================] - 0s 33ms/step - loss: 38.5184 - val_loss: 185.8971\n",
      "Epoch 7/10\n",
      "2/2 [==============================] - 0s 34ms/step - loss: 38.4252 - val_loss: 185.4466\n",
      "Epoch 8/10\n",
      "2/2 [==============================] - 0s 32ms/step - loss: 38.3160 - val_loss: 184.9179\n",
      "Epoch 9/10\n",
      "2/2 [==============================] - 0s 31ms/step - loss: 38.1936 - val_loss: 184.2998\n",
      "Epoch 10/10\n",
      "2/2 [==============================] - 0s 37ms/step - loss: 38.0506 - val_loss: 183.5805\n"
     ]
    }
   ],
   "source": [
    "history = model.fit(x_train, y_train, batch_size=128, epochs=10, validation_split=0.05)"
   ]
  },
  {
   "cell_type": "code",
   "execution_count": 19,
   "id": "eb56faa5",
   "metadata": {},
   "outputs": [
    {
     "name": "stdout",
     "output_type": "stream",
     "text": [
      "5/5 [==============================] - 0s 4ms/step - loss: 45.8738\n",
      "2/2 [==============================] - 0s 4ms/step - loss: 499.5435\n",
      "train score: 45.873802185058594 rmse: 6.773020167182333\n",
      "test score: 499.54345703125 rmse: 22.35046883247083\n"
     ]
    }
   ],
   "source": [
    "train_score = model.evaluate(x_train, y_train)\n",
    "test_score = model.evaluate(x_test, y_test)\n",
    "print(f'train score: {train_score} rmse: {np.sqrt(train_score)}')\n",
    "print(f'test score: {test_score} rmse: {np.sqrt(test_score)}')"
   ]
  },
  {
   "cell_type": "code",
   "execution_count": 20,
   "id": "257a299f",
   "metadata": {},
   "outputs": [
    {
     "name": "stdout",
     "output_type": "stream",
     "text": [
      "2/2 [==============================] - 0s 3ms/step\n"
     ]
    },
    {
     "data": {
      "text/plain": [
       "array([[0.13583833],\n",
       "       [0.14561158],\n",
       "       [0.1577454 ],\n",
       "       [0.17268649],\n",
       "       [0.20268345],\n",
       "       [0.21081176],\n",
       "       [0.22253264],\n",
       "       [0.21863197],\n",
       "       [0.20216042],\n",
       "       [0.20000364]], dtype=float32)"
      ]
     },
     "execution_count": 20,
     "metadata": {},
     "output_type": "execute_result"
    }
   ],
   "source": [
    "pred = model.predict(x_test)\n",
    "pred[:10]"
   ]
  },
  {
   "cell_type": "code",
   "execution_count": 21,
   "id": "a4c9802e",
   "metadata": {},
   "outputs": [
    {
     "data": {
      "image/png": "[encoded data removed]",
      "text/plain": [
       "<Figure size 640x480 with 1 Axes>"
      ]
     },
     "metadata": {},
     "output_type": "display_data"
    },
    {
     "data": {
      "image/png": "[encoded data removed]",
      "text/plain": [
       "<Figure size 640x480 with 1 Axes>"
      ]
     },
     "metadata": {},
     "output_type": "display_data"
    }
   ],
   "source": [
    "plt.plot(pred, color='r', label='predictions from train model')\n",
    "plt.legend()\n",
    "plt.show()\n",
    "plt.plot(y_test, color='b', label='real values of stock')\n",
    "plt.legend()\n",
    "plt.show()\n"
   ]
  },
  {
   "cell_type": "code",
   "execution_count": null,
   "id": "dd63e977",
   "metadata": {},
   "outputs": [],
   "source": []
  },
  {
   "cell_type": "code",
   "execution_count": null,
   "id": "2c9a228b",
   "metadata": {},
   "outputs": [],
   "source": []
  },
  {
   "cell_type": "code",
   "execution_count": null,
   "id": "4492cf3e",
   "metadata": {},
   "outputs": [],
   "source": []
  }
 ],
 "metadata": {
  "kernelspec": {
   "display_name": "Python 3 (ipykernel)",
   "language": "python",
   "name": "python3"
  },
  "language_info": {
   "codemirror_mode": {
    "name": "ipython",
    "version": 3
   },
   "file_extension": ".py",
   "mimetype": "text/x-python",
   "name": "python",
   "nbconvert_exporter": "python",
   "pygments_lexer": "ipython3",
   "version": "3.9.7"
  }
 },
 "nbformat": 4,
 "nbformat_minor": 5
}
