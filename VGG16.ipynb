{
 "cells": [
  {
   "cell_type": "code",
   "execution_count": 1,
   "id": "5350263f",
   "metadata": {},
   "outputs": [],
   "source": [
    "import tensorflow as tf\n",
    "import tensorflow.compat.v2 as tf\n",
    "\n",
    "from tensorflow import keras\n",
    "from keras import backend\n",
    "from keras.applications import imagenet_utils\n",
    "from keras.engine import training\n",
    "from keras.layers import VersionAwareLayers\n",
    "from keras.utils import data_utils\n",
    "from keras.utils import layer_utils\n",
    "from tensorflow.python.util.tf_export import keras_export"
   ]
  },
  {
   "cell_type": "code",
   "execution_count": 2,
   "id": "8041a4d0",
   "metadata": {},
   "outputs": [],
   "source": [
    "layers = VersionAwareLayers()\n",
    "\n",
    "def vgg16(input_shape=None,\n",
    "         classes=100,\n",
    "         classifier_activation='softmax'):\n",
    "    \n",
    "    input_shape = imagenet_utils.obtain_input_shape(input_shape,\n",
    "                                                   default_size=224,\n",
    "                                                   min_size=32,\n",
    "                                                   data_format=backend.image_data_format(),\n",
    "                                                   require_flatten=True)\n",
    "    print(input_shape)\n",
    "    \n",
    "    img_input = layers.Input(shape=input_shape)\n",
    "    \n",
    "    x = layers.Conv2D(64,\n",
    "                     (3,3), activation='relu',\n",
    "                     padding='same',\n",
    "                     name='block1_conv1')(img_input)\n",
    "    \n",
    "    x = layers.Conv2D(64,\n",
    "                     (3,3),activation='relu',\n",
    "                     padding='same',\n",
    "                     name='block1_conv2')(x)\n",
    "    \n",
    "    x = layers.MaxPooling2D((2,2), strides=(2,2),name='block1_pool')(x)\n",
    "    \n",
    "    x = layers.Conv2D(128,\n",
    "                     (3,3),activation='relu',\n",
    "                     padding='same',\n",
    "                     name='block2_conv1')(x)\n",
    "    \n",
    "    x = layers.Conv2D(128,\n",
    "                     (3,3), activation='relu',\n",
    "                     padding='same',\n",
    "                     name='block2_conv2')(x)\n",
    "    \n",
    "    x = layers.MaxPooling2D((2,2), strides=(2,2),name='block2_pool')(x)\n",
    "    \n",
    "    x = layers.Conv2D(256,\n",
    "                     (3,3),activation='relu',\n",
    "                     padding='same',\n",
    "                     name='block3_conv1')(x)\n",
    "    \n",
    "    x = layers.Conv2D(256,\n",
    "                     (3,3), activation='relu',\n",
    "                     padding='same',\n",
    "                     name='block3_conv2')(x)\n",
    "    \n",
    "    x = layers.Conv2D(256,\n",
    "                      (3,3), activation='relu',\n",
    "                     padding='same',\n",
    "                     name='block3_conv3')(x)\n",
    "    \n",
    "    x = layers.MaxPooling2D((2,2), strides=(2,2),name='block3_pool')(x)\n",
    "    \n",
    "    x = layers.Conv2D(512,\n",
    "                      (3,3),activation='relu',\n",
    "                      padding='same',\n",
    "                      name='block4_conv1')(x)\n",
    "    \n",
    "    x = layers.Conv2D(512,\n",
    "                     (3,3), activation='relu',\n",
    "                     padding='same',\n",
    "                     name='block4_conv2')(x)\n",
    "    \n",
    "    x = layers.Conv2D(512,\n",
    "                      (3,3), activation='relu',\n",
    "                     padding='same',\n",
    "                     name='block4_conv3')(x)\n",
    "    \n",
    "    x = layers.MaxPooling2D((2,2), strides=(2,2),name='block4_pool')(x)\n",
    "    \n",
    "    x = layers.Conv2D(512,\n",
    "                      (3,3),activation='relu',\n",
    "                      padding='same',\n",
    "                      name='block5_conv1')(x)\n",
    "    \n",
    "    x = layers.Conv2D(512,\n",
    "                     (3,3), activation='relu',\n",
    "                     padding='same',\n",
    "                     name='block5_conv2')(x)\n",
    "    \n",
    "    x = layers.Conv2D(512,\n",
    "                      (3,3), activation='relu',\n",
    "                     padding='same',\n",
    "                     name='block5_conv3')(x)\n",
    "    \n",
    "    x = layers.MaxPooling2D((2,2), strides=(2,2),name='block5_pool')(x)\n",
    "    \n",
    "    x = layers.Flatten(name='flatten')(x)\n",
    "    x = layers.Dense(4096, activation='relu', name='fc1')(x)\n",
    "    x = layers.Dense(4096, activation='relu', name='fc2')(x)\n",
    "    \n",
    "    x = layers.Dense(classes, activation=classifier_activation,\n",
    "                    name='predictions')(x)\n",
    "    \n",
    "    inputs = img_input\n",
    "    \n",
    "    model = training.Model(inputs, x, name='vgg16')\n",
    "    \n",
    "    return model\n",
    "    \n",
    "    "
   ]
  },
  {
   "cell_type": "code",
   "execution_count": 3,
   "id": "4ca95408",
   "metadata": {},
   "outputs": [
    {
     "name": "stdout",
     "output_type": "stream",
     "text": [
      "(224, 224, 3)\n",
      "Model: \"vgg16\"\n",
      "_________________________________________________________________\n",
      " Layer (type)                Output Shape              Param #   \n",
      "=================================================================\n",
      " input_1 (InputLayer)        [(None, 224, 224, 3)]     0         \n",
      "                                                                 \n",
      " block1_conv1 (Conv2D)       (None, 224, 224, 64)      1792      \n",
      "                                                                 \n",
      " block1_conv2 (Conv2D)       (None, 224, 224, 64)      36928     \n",
      "                                                                 \n",
      " block1_pool (MaxPooling2D)  (None, 112, 112, 64)      0         \n",
      "                                                                 \n",
      " block2_conv1 (Conv2D)       (None, 112, 112, 128)     73856     \n",
      "                                                                 \n",
      " block2_conv2 (Conv2D)       (None, 112, 112, 128)     147584    \n",
      "                                                                 \n",
      " block2_pool (MaxPooling2D)  (None, 56, 56, 128)       0         \n",
      "                                                                 \n",
      " block3_conv1 (Conv2D)       (None, 56, 56, 256)       295168    \n",
      "                                                                 \n",
      " block3_conv2 (Conv2D)       (None, 56, 56, 256)       590080    \n",
      "                                                                 \n",
      " block3_conv3 (Conv2D)       (None, 56, 56, 256)       590080    \n",
      "                                                                 \n",
      " block3_pool (MaxPooling2D)  (None, 28, 28, 256)       0         \n",
      "                                                                 \n",
      " block4_conv1 (Conv2D)       (None, 28, 28, 512)       1180160   \n",
      "                                                                 \n",
      " block4_conv2 (Conv2D)       (None, 28, 28, 512)       2359808   \n",
      "                                                                 \n",
      " block4_conv3 (Conv2D)       (None, 28, 28, 512)       2359808   \n",
      "                                                                 \n",
      " block4_pool (MaxPooling2D)  (None, 14, 14, 512)       0         \n",
      "                                                                 \n",
      " block5_conv1 (Conv2D)       (None, 14, 14, 512)       2359808   \n",
      "                                                                 \n",
      " block5_conv2 (Conv2D)       (None, 14, 14, 512)       2359808   \n",
      "                                                                 \n",
      " block5_conv3 (Conv2D)       (None, 14, 14, 512)       2359808   \n",
      "                                                                 \n",
      " block5_pool (MaxPooling2D)  (None, 7, 7, 512)         0         \n",
      "                                                                 \n",
      " flatten (Flatten)           (None, 25088)             0         \n",
      "                                                                 \n",
      " fc1 (Dense)                 (None, 4096)              102764544 \n",
      "                                                                 \n",
      " fc2 (Dense)                 (None, 4096)              16781312  \n",
      "                                                                 \n",
      " predictions (Dense)         (None, 100)               409700    \n",
      "                                                                 \n",
      "=================================================================\n",
      "Total params: 134,670,244\n",
      "Trainable params: 134,670,244\n",
      "Non-trainable params: 0\n",
      "_________________________________________________________________\n"
     ]
    }
   ],
   "source": [
    "vgg16 = vgg16()\n",
    "\n",
    "vgg16.summary()"
   ]
  },
  {
   "cell_type": "code",
   "execution_count": 4,
   "id": "54543c27",
   "metadata": {},
   "outputs": [
    {
     "name": "stdout",
     "output_type": "stream",
     "text": [
      "You must install pydot (`pip install pydot`) and install graphviz (see instructions at https://graphviz.gitlab.io/download/) for plot_model to work.\n"
     ]
    }
   ],
   "source": [
    "tf.keras.utils.plot_model(vgg16, show_layer_names=False, show_shapes=True, show_dtype=True)"
   ]
  },
  {
   "cell_type": "code",
   "execution_count": 5,
   "id": "d0834d6f",
   "metadata": {},
   "outputs": [],
   "source": [
    "import tensorflow as tf\n",
    "from tensorflow import keras\n",
    "import matplotlib.pyplot as plt\n",
    "import os\n",
    "import datetime"
   ]
  },
  {
   "cell_type": "code",
   "execution_count": 6,
   "id": "bccad601",
   "metadata": {},
   "outputs": [],
   "source": [
    "from keras.datasets import cifar100"
   ]
  },
  {
   "cell_type": "code",
   "execution_count": 7,
   "id": "2958a658",
   "metadata": {},
   "outputs": [],
   "source": [
    "(train_images, train_labels), (test_images, test_labels) = cifar100.load_data()"
   ]
  },
  {
   "cell_type": "code",
   "execution_count": 8,
   "id": "956d216a",
   "metadata": {},
   "outputs": [],
   "source": [
    "validation_images, validation_labels = train_images[:5000], train_labels[:5000]\n",
    "train_images, train_labels = train_images[5000:], train_labels[5000:]"
   ]
  },
  {
   "cell_type": "code",
   "execution_count": 9,
   "id": "c6eedbf1",
   "metadata": {},
   "outputs": [],
   "source": [
    "train_ds = tf.data.Dataset.from_tensor_slices((train_images, train_labels))\n",
    "test_ds = tf.data.Dataset.from_tensor_slices((test_images, test_labels))\n",
    "\n",
    "validation_ds = tf.data.Dataset.from_tensor_slices((validation_images, validation_labels))"
   ]
  },
  {
   "cell_type": "code",
   "execution_count": 10,
   "id": "e6ce00e0",
   "metadata": {},
   "outputs": [],
   "source": [
    "def process_images(image, label):\n",
    "    image = tf.image.per_image_standardization(image)\n",
    "    \n",
    "    image = tf.image.resize(image, (224, 224))\n",
    "    \n",
    "    return image, label"
   ]
  },
  {
   "cell_type": "code",
   "execution_count": 11,
   "id": "94e39e71",
   "metadata": {},
   "outputs": [
    {
     "name": "stdout",
     "output_type": "stream",
     "text": [
      "45000 10000 5000\n"
     ]
    }
   ],
   "source": [
    "import numpy as np\n",
    "train_ds_size = tf.data.experimental.cardinality(train_ds).numpy()\n",
    "\n",
    "test_ds_size = tf.data.experimental.cardinality(test_ds).numpy()\n",
    "\n",
    "validation_ds_size = tf.data.experimental.cardinality(validation_ds).numpy()\n",
    "\n",
    "print(train_ds_size, test_ds_size, validation_ds_size)"
   ]
  },
  {
   "cell_type": "code",
   "execution_count": 12,
   "id": "6497cf8d",
   "metadata": {},
   "outputs": [],
   "source": [
    "train_ds = (train_ds\n",
    "           .map(process_images)\n",
    "           .shuffle(buffer_size=train_ds_size/10)\n",
    "           .batch(batch_size=1, drop_remainder=True))\n",
    "\n",
    "test_ds = (test_ds\n",
    "          .map(process_images)\n",
    "          .shuffle(buffer_size=test_ds_size/10)\n",
    "          .batch(batch_size=1, drop_remainder=True))\n",
    "\n",
    "validation_ds = (validation_ds\n",
    "                .map(process_images)\n",
    "                .shuffle(buffer_size=validation_ds_size/10)\n",
    "                .batch(batch_size=1, drop_remainder=True))"
   ]
  },
  {
   "cell_type": "code",
   "execution_count": 13,
   "id": "6779cd29",
   "metadata": {},
   "outputs": [],
   "source": [
    "vgg16.compile(optimizer='sgd', loss='sparse_categorical_crossentropy', metrics=['accuracy'])"
   ]
  },
  {
   "cell_type": "code",
   "execution_count": 15,
   "id": "da19ea97",
   "metadata": {},
   "outputs": [
    {
     "name": "stdout",
     "output_type": "stream",
     "text": [
      "Epoch 1/5\n",
      "  140/45000 [..............................] - ETA: 12:10:07 - loss: 4.6028 - accuracy: 0.0000e+00"
     ]
    },
    {
     "name": "stderr",
     "output_type": "stream",
     "text": [
      "\n",
      "KeyboardInterrupt\n",
      "\n"
     ]
    }
   ],
   "source": [
    "vgg16.fit(train_ds,\n",
    "         validation_data=validation_ds,\n",
    "         epochs=5,\n",
    "         validation_freq=1)"
   ]
  },
  {
   "cell_type": "code",
   "execution_count": null,
   "id": "0dddb78e",
   "metadata": {},
   "outputs": [],
   "source": []
  }
 ],
 "metadata": {
  "kernelspec": {
   "display_name": "Python 3 (ipykernel)",
   "language": "python",
   "name": "python3"
  },
  "language_info": {
   "codemirror_mode": {
    "name": "ipython",
    "version": 3
   },
   "file_extension": ".py",
   "mimetype": "text/x-python",
   "name": "python",
   "nbconvert_exporter": "python",
   "pygments_lexer": "ipython3",
   "version": "3.9.7"
  }
 },
 "nbformat": 4,
 "nbformat_minor": 5
}
